{
 "cells": [
  {
   "cell_type": "markdown",
   "metadata": {},
   "source": [
    "# Telecom Churn Case Study:\n",
    "\n",
    "##### 1. Data Cleaning & Preparation:\n",
    "    - import libraries and read the data\n",
    "    - handle categorical and numerical variables by creating dummies\n",
    "    - handle missing values by imputing them with most relevant values or removing data all-together if nulls exceed a limit\n",
    "    - create new features if needed here (else do them later)\n",
    "##### 2. Define High value customers\n",
    "    - identify these guys based on recharge amount\n",
    "    - filter out these customers (about 29.9k)\n",
    "    - now tag the churners based on zero calls AND data usage\n",
    "    - remove all 9-month-related attributes from this dataset\n",
    "##### 3. Model building:\n",
    "    - Begin modelling\n",
    "    - Use PCA to reduce features\n",
    "    - Run a Logistic Regression on the features and check some evaluation metrics (Precision and AUC)\n",
    "    - Run a Random Forest algo and check the same evaluation metrics (Precision and AUC)\n",
    "    - Compare both models and decide which one to use to identify churn-related features\n",
    "##### 4. Based on previous comparison, build a Random Forest model on the data:\n",
    "    - Tweak Hyperparameters\n",
    "    - check precision and AUC\n",
    "##### 5. Prediction on the test data set\n",
    "    - run the model on test data and record metrics\n",
    "    - extract best features for prediction\n",
    "##### 6. Advice ideal retention strategy:\n",
    "    - Identify key retension strategies for the customers and explain with details"
   ]
  },
  {
   "cell_type": "markdown",
   "metadata": {},
   "source": [
    "### 1. Data Cleaning & Preparation:"
   ]
  },
  {
   "cell_type": "code",
   "execution_count": 1,
   "metadata": {},
   "outputs": [],
   "source": [
    "# import libraries\n",
    "import pandas as pd\n",
    "import numpy as np\n",
    "import matplotlib.pyplot as plt\n",
    "import seaborn as sns\n",
    "\n",
    "import warnings\n",
    "warnings.filterwarnings('ignore')"
   ]
  },
  {
   "cell_type": "code",
   "execution_count": 2,
   "metadata": {
    "scrolled": true
   },
   "outputs": [],
   "source": [
    "# let's read the data\n",
    "df = pd.read_csv(\"telecom_churn_data.csv\")"
   ]
  },
  {
   "cell_type": "code",
   "execution_count": 3,
   "metadata": {},
   "outputs": [
    {
     "data": {
      "text/html": [
       "<div>\n",
       "<style scoped>\n",
       "    .dataframe tbody tr th:only-of-type {\n",
       "        vertical-align: middle;\n",
       "    }\n",
       "\n",
       "    .dataframe tbody tr th {\n",
       "        vertical-align: top;\n",
       "    }\n",
       "\n",
       "    .dataframe thead th {\n",
       "        text-align: right;\n",
       "    }\n",
       "</style>\n",
       "<table border=\"1\" class=\"dataframe\">\n",
       "  <thead>\n",
       "    <tr style=\"text-align: right;\">\n",
       "      <th></th>\n",
       "      <th>mobile_number</th>\n",
       "      <th>circle_id</th>\n",
       "      <th>loc_og_t2o_mou</th>\n",
       "      <th>std_og_t2o_mou</th>\n",
       "      <th>loc_ic_t2o_mou</th>\n",
       "      <th>last_date_of_month_6</th>\n",
       "      <th>last_date_of_month_7</th>\n",
       "      <th>last_date_of_month_8</th>\n",
       "      <th>last_date_of_month_9</th>\n",
       "      <th>arpu_6</th>\n",
       "      <th>...</th>\n",
       "      <th>sachet_3g_9</th>\n",
       "      <th>fb_user_6</th>\n",
       "      <th>fb_user_7</th>\n",
       "      <th>fb_user_8</th>\n",
       "      <th>fb_user_9</th>\n",
       "      <th>aon</th>\n",
       "      <th>aug_vbc_3g</th>\n",
       "      <th>jul_vbc_3g</th>\n",
       "      <th>jun_vbc_3g</th>\n",
       "      <th>sep_vbc_3g</th>\n",
       "    </tr>\n",
       "  </thead>\n",
       "  <tbody>\n",
       "    <tr>\n",
       "      <td>0</td>\n",
       "      <td>7000842753</td>\n",
       "      <td>109</td>\n",
       "      <td>0.0</td>\n",
       "      <td>0.0</td>\n",
       "      <td>0.0</td>\n",
       "      <td>6/30/2014</td>\n",
       "      <td>7/31/2014</td>\n",
       "      <td>8/31/2014</td>\n",
       "      <td>9/30/2014</td>\n",
       "      <td>197.385</td>\n",
       "      <td>...</td>\n",
       "      <td>0</td>\n",
       "      <td>1.0</td>\n",
       "      <td>1.0</td>\n",
       "      <td>1.0</td>\n",
       "      <td>NaN</td>\n",
       "      <td>968</td>\n",
       "      <td>30.4</td>\n",
       "      <td>0.0</td>\n",
       "      <td>101.20</td>\n",
       "      <td>3.58</td>\n",
       "    </tr>\n",
       "    <tr>\n",
       "      <td>1</td>\n",
       "      <td>7001865778</td>\n",
       "      <td>109</td>\n",
       "      <td>0.0</td>\n",
       "      <td>0.0</td>\n",
       "      <td>0.0</td>\n",
       "      <td>6/30/2014</td>\n",
       "      <td>7/31/2014</td>\n",
       "      <td>8/31/2014</td>\n",
       "      <td>9/30/2014</td>\n",
       "      <td>34.047</td>\n",
       "      <td>...</td>\n",
       "      <td>0</td>\n",
       "      <td>NaN</td>\n",
       "      <td>1.0</td>\n",
       "      <td>1.0</td>\n",
       "      <td>NaN</td>\n",
       "      <td>1006</td>\n",
       "      <td>0.0</td>\n",
       "      <td>0.0</td>\n",
       "      <td>0.00</td>\n",
       "      <td>0.00</td>\n",
       "    </tr>\n",
       "    <tr>\n",
       "      <td>2</td>\n",
       "      <td>7001625959</td>\n",
       "      <td>109</td>\n",
       "      <td>0.0</td>\n",
       "      <td>0.0</td>\n",
       "      <td>0.0</td>\n",
       "      <td>6/30/2014</td>\n",
       "      <td>7/31/2014</td>\n",
       "      <td>8/31/2014</td>\n",
       "      <td>9/30/2014</td>\n",
       "      <td>167.690</td>\n",
       "      <td>...</td>\n",
       "      <td>0</td>\n",
       "      <td>NaN</td>\n",
       "      <td>NaN</td>\n",
       "      <td>NaN</td>\n",
       "      <td>1.0</td>\n",
       "      <td>1103</td>\n",
       "      <td>0.0</td>\n",
       "      <td>0.0</td>\n",
       "      <td>4.17</td>\n",
       "      <td>0.00</td>\n",
       "    </tr>\n",
       "    <tr>\n",
       "      <td>3</td>\n",
       "      <td>7001204172</td>\n",
       "      <td>109</td>\n",
       "      <td>0.0</td>\n",
       "      <td>0.0</td>\n",
       "      <td>0.0</td>\n",
       "      <td>6/30/2014</td>\n",
       "      <td>7/31/2014</td>\n",
       "      <td>8/31/2014</td>\n",
       "      <td>9/30/2014</td>\n",
       "      <td>221.338</td>\n",
       "      <td>...</td>\n",
       "      <td>0</td>\n",
       "      <td>NaN</td>\n",
       "      <td>NaN</td>\n",
       "      <td>NaN</td>\n",
       "      <td>NaN</td>\n",
       "      <td>2491</td>\n",
       "      <td>0.0</td>\n",
       "      <td>0.0</td>\n",
       "      <td>0.00</td>\n",
       "      <td>0.00</td>\n",
       "    </tr>\n",
       "    <tr>\n",
       "      <td>4</td>\n",
       "      <td>7000142493</td>\n",
       "      <td>109</td>\n",
       "      <td>0.0</td>\n",
       "      <td>0.0</td>\n",
       "      <td>0.0</td>\n",
       "      <td>6/30/2014</td>\n",
       "      <td>7/31/2014</td>\n",
       "      <td>8/31/2014</td>\n",
       "      <td>9/30/2014</td>\n",
       "      <td>261.636</td>\n",
       "      <td>...</td>\n",
       "      <td>0</td>\n",
       "      <td>0.0</td>\n",
       "      <td>NaN</td>\n",
       "      <td>NaN</td>\n",
       "      <td>NaN</td>\n",
       "      <td>1526</td>\n",
       "      <td>0.0</td>\n",
       "      <td>0.0</td>\n",
       "      <td>0.00</td>\n",
       "      <td>0.00</td>\n",
       "    </tr>\n",
       "  </tbody>\n",
       "</table>\n",
       "<p>5 rows × 226 columns</p>\n",
       "</div>"
      ],
      "text/plain": [
       "   mobile_number  circle_id  loc_og_t2o_mou  std_og_t2o_mou  loc_ic_t2o_mou  \\\n",
       "0     7000842753        109             0.0             0.0             0.0   \n",
       "1     7001865778        109             0.0             0.0             0.0   \n",
       "2     7001625959        109             0.0             0.0             0.0   \n",
       "3     7001204172        109             0.0             0.0             0.0   \n",
       "4     7000142493        109             0.0             0.0             0.0   \n",
       "\n",
       "  last_date_of_month_6 last_date_of_month_7 last_date_of_month_8  \\\n",
       "0            6/30/2014            7/31/2014            8/31/2014   \n",
       "1            6/30/2014            7/31/2014            8/31/2014   \n",
       "2            6/30/2014            7/31/2014            8/31/2014   \n",
       "3            6/30/2014            7/31/2014            8/31/2014   \n",
       "4            6/30/2014            7/31/2014            8/31/2014   \n",
       "\n",
       "  last_date_of_month_9   arpu_6  ...  sachet_3g_9  fb_user_6  fb_user_7  \\\n",
       "0            9/30/2014  197.385  ...            0        1.0        1.0   \n",
       "1            9/30/2014   34.047  ...            0        NaN        1.0   \n",
       "2            9/30/2014  167.690  ...            0        NaN        NaN   \n",
       "3            9/30/2014  221.338  ...            0        NaN        NaN   \n",
       "4            9/30/2014  261.636  ...            0        0.0        NaN   \n",
       "\n",
       "   fb_user_8  fb_user_9   aon  aug_vbc_3g  jul_vbc_3g  jun_vbc_3g  sep_vbc_3g  \n",
       "0        1.0        NaN   968        30.4         0.0      101.20        3.58  \n",
       "1        1.0        NaN  1006         0.0         0.0        0.00        0.00  \n",
       "2        NaN        1.0  1103         0.0         0.0        4.17        0.00  \n",
       "3        NaN        NaN  2491         0.0         0.0        0.00        0.00  \n",
       "4        NaN        NaN  1526         0.0         0.0        0.00        0.00  \n",
       "\n",
       "[5 rows x 226 columns]"
      ]
     },
     "execution_count": 3,
     "metadata": {},
     "output_type": "execute_result"
    }
   ],
   "source": [
    "df.head()"
   ]
  },
  {
   "cell_type": "code",
   "execution_count": 4,
   "metadata": {},
   "outputs": [
    {
     "data": {
      "text/plain": [
       "(99999, 226)"
      ]
     },
     "execution_count": 4,
     "metadata": {},
     "output_type": "execute_result"
    }
   ],
   "source": [
    "# looking at the overall shape\n",
    "df.shape"
   ]
  },
  {
   "cell_type": "code",
   "execution_count": 5,
   "metadata": {},
   "outputs": [
    {
     "name": "stdout",
     "output_type": "stream",
     "text": [
      "<class 'pandas.core.frame.DataFrame'>\n",
      "RangeIndex: 99999 entries, 0 to 99998\n",
      "Columns: 226 entries, mobile_number to sep_vbc_3g\n",
      "dtypes: float64(179), int64(35), object(12)\n",
      "memory usage: 172.4+ MB\n"
     ]
    }
   ],
   "source": [
    "df.info()"
   ]
  },
  {
   "cell_type": "code",
   "execution_count": 6,
   "metadata": {},
   "outputs": [
    {
     "data": {
      "text/html": [
       "<div>\n",
       "<style scoped>\n",
       "    .dataframe tbody tr th:only-of-type {\n",
       "        vertical-align: middle;\n",
       "    }\n",
       "\n",
       "    .dataframe tbody tr th {\n",
       "        vertical-align: top;\n",
       "    }\n",
       "\n",
       "    .dataframe thead th {\n",
       "        text-align: right;\n",
       "    }\n",
       "</style>\n",
       "<table border=\"1\" class=\"dataframe\">\n",
       "  <thead>\n",
       "    <tr style=\"text-align: right;\">\n",
       "      <th></th>\n",
       "      <th>mobile_number</th>\n",
       "      <th>circle_id</th>\n",
       "      <th>loc_og_t2o_mou</th>\n",
       "      <th>std_og_t2o_mou</th>\n",
       "      <th>loc_ic_t2o_mou</th>\n",
       "      <th>arpu_6</th>\n",
       "      <th>arpu_7</th>\n",
       "      <th>arpu_8</th>\n",
       "      <th>arpu_9</th>\n",
       "      <th>onnet_mou_6</th>\n",
       "      <th>...</th>\n",
       "      <th>sachet_3g_9</th>\n",
       "      <th>fb_user_6</th>\n",
       "      <th>fb_user_7</th>\n",
       "      <th>fb_user_8</th>\n",
       "      <th>fb_user_9</th>\n",
       "      <th>aon</th>\n",
       "      <th>aug_vbc_3g</th>\n",
       "      <th>jul_vbc_3g</th>\n",
       "      <th>jun_vbc_3g</th>\n",
       "      <th>sep_vbc_3g</th>\n",
       "    </tr>\n",
       "  </thead>\n",
       "  <tbody>\n",
       "    <tr>\n",
       "      <td>count</td>\n",
       "      <td>9.999900e+04</td>\n",
       "      <td>99999.0</td>\n",
       "      <td>98981.0</td>\n",
       "      <td>98981.0</td>\n",
       "      <td>98981.0</td>\n",
       "      <td>99999.000000</td>\n",
       "      <td>99999.000000</td>\n",
       "      <td>99999.000000</td>\n",
       "      <td>99999.000000</td>\n",
       "      <td>96062.000000</td>\n",
       "      <td>...</td>\n",
       "      <td>99999.000000</td>\n",
       "      <td>25153.000000</td>\n",
       "      <td>25571.000000</td>\n",
       "      <td>26339.000000</td>\n",
       "      <td>25922.000000</td>\n",
       "      <td>99999.000000</td>\n",
       "      <td>99999.000000</td>\n",
       "      <td>99999.000000</td>\n",
       "      <td>99999.000000</td>\n",
       "      <td>99999.000000</td>\n",
       "    </tr>\n",
       "    <tr>\n",
       "      <td>mean</td>\n",
       "      <td>7.001207e+09</td>\n",
       "      <td>109.0</td>\n",
       "      <td>0.0</td>\n",
       "      <td>0.0</td>\n",
       "      <td>0.0</td>\n",
       "      <td>282.987358</td>\n",
       "      <td>278.536648</td>\n",
       "      <td>279.154731</td>\n",
       "      <td>261.645069</td>\n",
       "      <td>132.395875</td>\n",
       "      <td>...</td>\n",
       "      <td>0.084581</td>\n",
       "      <td>0.914404</td>\n",
       "      <td>0.908764</td>\n",
       "      <td>0.890808</td>\n",
       "      <td>0.860968</td>\n",
       "      <td>1219.854749</td>\n",
       "      <td>68.170248</td>\n",
       "      <td>66.839062</td>\n",
       "      <td>60.021204</td>\n",
       "      <td>3.299373</td>\n",
       "    </tr>\n",
       "    <tr>\n",
       "      <td>std</td>\n",
       "      <td>6.956694e+05</td>\n",
       "      <td>0.0</td>\n",
       "      <td>0.0</td>\n",
       "      <td>0.0</td>\n",
       "      <td>0.0</td>\n",
       "      <td>328.439770</td>\n",
       "      <td>338.156291</td>\n",
       "      <td>344.474791</td>\n",
       "      <td>341.998630</td>\n",
       "      <td>297.207406</td>\n",
       "      <td>...</td>\n",
       "      <td>0.650457</td>\n",
       "      <td>0.279772</td>\n",
       "      <td>0.287950</td>\n",
       "      <td>0.311885</td>\n",
       "      <td>0.345987</td>\n",
       "      <td>954.733842</td>\n",
       "      <td>267.580450</td>\n",
       "      <td>271.201856</td>\n",
       "      <td>253.938223</td>\n",
       "      <td>32.408353</td>\n",
       "    </tr>\n",
       "    <tr>\n",
       "      <td>min</td>\n",
       "      <td>7.000000e+09</td>\n",
       "      <td>109.0</td>\n",
       "      <td>0.0</td>\n",
       "      <td>0.0</td>\n",
       "      <td>0.0</td>\n",
       "      <td>-2258.709000</td>\n",
       "      <td>-2014.045000</td>\n",
       "      <td>-945.808000</td>\n",
       "      <td>-1899.505000</td>\n",
       "      <td>0.000000</td>\n",
       "      <td>...</td>\n",
       "      <td>0.000000</td>\n",
       "      <td>0.000000</td>\n",
       "      <td>0.000000</td>\n",
       "      <td>0.000000</td>\n",
       "      <td>0.000000</td>\n",
       "      <td>180.000000</td>\n",
       "      <td>0.000000</td>\n",
       "      <td>0.000000</td>\n",
       "      <td>0.000000</td>\n",
       "      <td>0.000000</td>\n",
       "    </tr>\n",
       "    <tr>\n",
       "      <td>25%</td>\n",
       "      <td>7.000606e+09</td>\n",
       "      <td>109.0</td>\n",
       "      <td>0.0</td>\n",
       "      <td>0.0</td>\n",
       "      <td>0.0</td>\n",
       "      <td>93.411500</td>\n",
       "      <td>86.980500</td>\n",
       "      <td>84.126000</td>\n",
       "      <td>62.685000</td>\n",
       "      <td>7.380000</td>\n",
       "      <td>...</td>\n",
       "      <td>0.000000</td>\n",
       "      <td>1.000000</td>\n",
       "      <td>1.000000</td>\n",
       "      <td>1.000000</td>\n",
       "      <td>1.000000</td>\n",
       "      <td>467.000000</td>\n",
       "      <td>0.000000</td>\n",
       "      <td>0.000000</td>\n",
       "      <td>0.000000</td>\n",
       "      <td>0.000000</td>\n",
       "    </tr>\n",
       "    <tr>\n",
       "      <td>50%</td>\n",
       "      <td>7.001205e+09</td>\n",
       "      <td>109.0</td>\n",
       "      <td>0.0</td>\n",
       "      <td>0.0</td>\n",
       "      <td>0.0</td>\n",
       "      <td>197.704000</td>\n",
       "      <td>191.640000</td>\n",
       "      <td>192.080000</td>\n",
       "      <td>176.849000</td>\n",
       "      <td>34.310000</td>\n",
       "      <td>...</td>\n",
       "      <td>0.000000</td>\n",
       "      <td>1.000000</td>\n",
       "      <td>1.000000</td>\n",
       "      <td>1.000000</td>\n",
       "      <td>1.000000</td>\n",
       "      <td>863.000000</td>\n",
       "      <td>0.000000</td>\n",
       "      <td>0.000000</td>\n",
       "      <td>0.000000</td>\n",
       "      <td>0.000000</td>\n",
       "    </tr>\n",
       "    <tr>\n",
       "      <td>75%</td>\n",
       "      <td>7.001812e+09</td>\n",
       "      <td>109.0</td>\n",
       "      <td>0.0</td>\n",
       "      <td>0.0</td>\n",
       "      <td>0.0</td>\n",
       "      <td>371.060000</td>\n",
       "      <td>365.344500</td>\n",
       "      <td>369.370500</td>\n",
       "      <td>353.466500</td>\n",
       "      <td>118.740000</td>\n",
       "      <td>...</td>\n",
       "      <td>0.000000</td>\n",
       "      <td>1.000000</td>\n",
       "      <td>1.000000</td>\n",
       "      <td>1.000000</td>\n",
       "      <td>1.000000</td>\n",
       "      <td>1807.500000</td>\n",
       "      <td>0.000000</td>\n",
       "      <td>0.000000</td>\n",
       "      <td>0.000000</td>\n",
       "      <td>0.000000</td>\n",
       "    </tr>\n",
       "    <tr>\n",
       "      <td>max</td>\n",
       "      <td>7.002411e+09</td>\n",
       "      <td>109.0</td>\n",
       "      <td>0.0</td>\n",
       "      <td>0.0</td>\n",
       "      <td>0.0</td>\n",
       "      <td>27731.088000</td>\n",
       "      <td>35145.834000</td>\n",
       "      <td>33543.624000</td>\n",
       "      <td>38805.617000</td>\n",
       "      <td>7376.710000</td>\n",
       "      <td>...</td>\n",
       "      <td>49.000000</td>\n",
       "      <td>1.000000</td>\n",
       "      <td>1.000000</td>\n",
       "      <td>1.000000</td>\n",
       "      <td>1.000000</td>\n",
       "      <td>4337.000000</td>\n",
       "      <td>12916.220000</td>\n",
       "      <td>9165.600000</td>\n",
       "      <td>11166.210000</td>\n",
       "      <td>2618.570000</td>\n",
       "    </tr>\n",
       "  </tbody>\n",
       "</table>\n",
       "<p>8 rows × 214 columns</p>\n",
       "</div>"
      ],
      "text/plain": [
       "       mobile_number  circle_id  loc_og_t2o_mou  std_og_t2o_mou  \\\n",
       "count   9.999900e+04    99999.0         98981.0         98981.0   \n",
       "mean    7.001207e+09      109.0             0.0             0.0   \n",
       "std     6.956694e+05        0.0             0.0             0.0   \n",
       "min     7.000000e+09      109.0             0.0             0.0   \n",
       "25%     7.000606e+09      109.0             0.0             0.0   \n",
       "50%     7.001205e+09      109.0             0.0             0.0   \n",
       "75%     7.001812e+09      109.0             0.0             0.0   \n",
       "max     7.002411e+09      109.0             0.0             0.0   \n",
       "\n",
       "       loc_ic_t2o_mou        arpu_6        arpu_7        arpu_8        arpu_9  \\\n",
       "count         98981.0  99999.000000  99999.000000  99999.000000  99999.000000   \n",
       "mean              0.0    282.987358    278.536648    279.154731    261.645069   \n",
       "std               0.0    328.439770    338.156291    344.474791    341.998630   \n",
       "min               0.0  -2258.709000  -2014.045000   -945.808000  -1899.505000   \n",
       "25%               0.0     93.411500     86.980500     84.126000     62.685000   \n",
       "50%               0.0    197.704000    191.640000    192.080000    176.849000   \n",
       "75%               0.0    371.060000    365.344500    369.370500    353.466500   \n",
       "max               0.0  27731.088000  35145.834000  33543.624000  38805.617000   \n",
       "\n",
       "        onnet_mou_6  ...   sachet_3g_9     fb_user_6     fb_user_7  \\\n",
       "count  96062.000000  ...  99999.000000  25153.000000  25571.000000   \n",
       "mean     132.395875  ...      0.084581      0.914404      0.908764   \n",
       "std      297.207406  ...      0.650457      0.279772      0.287950   \n",
       "min        0.000000  ...      0.000000      0.000000      0.000000   \n",
       "25%        7.380000  ...      0.000000      1.000000      1.000000   \n",
       "50%       34.310000  ...      0.000000      1.000000      1.000000   \n",
       "75%      118.740000  ...      0.000000      1.000000      1.000000   \n",
       "max     7376.710000  ...     49.000000      1.000000      1.000000   \n",
       "\n",
       "          fb_user_8     fb_user_9           aon    aug_vbc_3g    jul_vbc_3g  \\\n",
       "count  26339.000000  25922.000000  99999.000000  99999.000000  99999.000000   \n",
       "mean       0.890808      0.860968   1219.854749     68.170248     66.839062   \n",
       "std        0.311885      0.345987    954.733842    267.580450    271.201856   \n",
       "min        0.000000      0.000000    180.000000      0.000000      0.000000   \n",
       "25%        1.000000      1.000000    467.000000      0.000000      0.000000   \n",
       "50%        1.000000      1.000000    863.000000      0.000000      0.000000   \n",
       "75%        1.000000      1.000000   1807.500000      0.000000      0.000000   \n",
       "max        1.000000      1.000000   4337.000000  12916.220000   9165.600000   \n",
       "\n",
       "         jun_vbc_3g    sep_vbc_3g  \n",
       "count  99999.000000  99999.000000  \n",
       "mean      60.021204      3.299373  \n",
       "std      253.938223     32.408353  \n",
       "min        0.000000      0.000000  \n",
       "25%        0.000000      0.000000  \n",
       "50%        0.000000      0.000000  \n",
       "75%        0.000000      0.000000  \n",
       "max    11166.210000   2618.570000  \n",
       "\n",
       "[8 rows x 214 columns]"
      ]
     },
     "execution_count": 6,
     "metadata": {},
     "output_type": "execute_result"
    }
   ],
   "source": [
    "# look at data statistics\n",
    "df.describe()"
   ]
  },
  {
   "cell_type": "code",
   "execution_count": 7,
   "metadata": {},
   "outputs": [],
   "source": [
    "# let's create a backup of data\n",
    "df_copy = df.copy()"
   ]
  },
  {
   "cell_type": "code",
   "execution_count": 8,
   "metadata": {
    "scrolled": false
   },
   "outputs": [
    {
     "name": "stdout",
     "output_type": "stream",
     "text": [
      "                         0\n",
      "mobile_number         0.00\n",
      "circle_id             0.00\n",
      "loc_og_t2o_mou        1.02\n",
      "std_og_t2o_mou        1.02\n",
      "loc_ic_t2o_mou        1.02\n",
      "last_date_of_month_6  0.00\n",
      "last_date_of_month_7  0.60\n",
      "last_date_of_month_8  1.10\n",
      "last_date_of_month_9  1.66\n",
      "arpu_6                0.00\n",
      "arpu_7                0.00\n",
      "arpu_8                0.00\n",
      "arpu_9                0.00\n",
      "onnet_mou_6           3.94\n",
      "onnet_mou_7           3.86\n",
      "onnet_mou_8           5.38\n",
      "onnet_mou_9           7.75\n",
      "offnet_mou_6          3.94\n",
      "offnet_mou_7          3.86\n",
      "offnet_mou_8          5.38\n",
      "offnet_mou_9          7.75\n",
      "roam_ic_mou_6         3.94\n",
      "roam_ic_mou_7         3.86\n",
      "roam_ic_mou_8         5.38\n",
      "roam_ic_mou_9         7.75\n",
      "roam_og_mou_6         3.94\n",
      "roam_og_mou_7         3.86\n",
      "roam_og_mou_8         5.38\n",
      "roam_og_mou_9         7.75\n",
      "loc_og_t2t_mou_6      3.94\n",
      "loc_og_t2t_mou_7      3.86\n",
      "loc_og_t2t_mou_8      5.38\n",
      "loc_og_t2t_mou_9      7.75\n",
      "loc_og_t2m_mou_6      3.94\n",
      "loc_og_t2m_mou_7      3.86\n",
      "loc_og_t2m_mou_8      5.38\n",
      "loc_og_t2m_mou_9      7.75\n",
      "loc_og_t2f_mou_6      3.94\n",
      "loc_og_t2f_mou_7      3.86\n",
      "loc_og_t2f_mou_8      5.38\n",
      "loc_og_t2f_mou_9      7.75\n",
      "loc_og_t2c_mou_6      3.94\n",
      "loc_og_t2c_mou_7      3.86\n",
      "loc_og_t2c_mou_8      5.38\n",
      "loc_og_t2c_mou_9      7.75\n",
      "loc_og_mou_6          3.94\n",
      "loc_og_mou_7          3.86\n",
      "loc_og_mou_8          5.38\n",
      "loc_og_mou_9          7.75\n",
      "std_og_t2t_mou_6      3.94\n",
      "                        0\n",
      "count_rech_3g_9     74.08\n",
      "av_rech_amt_data_6  74.85\n",
      "av_rech_amt_data_7  74.43\n",
      "av_rech_amt_data_8  73.66\n",
      "av_rech_amt_data_9  74.08\n",
      "vol_2g_mb_6          0.00\n",
      "vol_2g_mb_7          0.00\n",
      "vol_2g_mb_8          0.00\n",
      "vol_2g_mb_9          0.00\n",
      "vol_3g_mb_6          0.00\n",
      "vol_3g_mb_7          0.00\n",
      "vol_3g_mb_8          0.00\n",
      "vol_3g_mb_9          0.00\n",
      "arpu_3g_6           74.85\n",
      "arpu_3g_7           74.43\n",
      "arpu_3g_8           73.66\n",
      "arpu_3g_9           74.08\n",
      "arpu_2g_6           74.85\n",
      "arpu_2g_7           74.43\n",
      "arpu_2g_8           73.66\n",
      "arpu_2g_9           74.08\n",
      "night_pck_user_6    74.85\n",
      "night_pck_user_7    74.43\n",
      "night_pck_user_8    73.66\n",
      "night_pck_user_9    74.08\n",
      "monthly_2g_6         0.00\n",
      "monthly_2g_7         0.00\n",
      "monthly_2g_8         0.00\n",
      "monthly_2g_9         0.00\n",
      "sachet_2g_6          0.00\n",
      "sachet_2g_7          0.00\n",
      "sachet_2g_8          0.00\n",
      "sachet_2g_9          0.00\n",
      "monthly_3g_6         0.00\n",
      "monthly_3g_7         0.00\n",
      "monthly_3g_8         0.00\n",
      "monthly_3g_9         0.00\n",
      "sachet_3g_6          0.00\n",
      "sachet_3g_7          0.00\n",
      "sachet_3g_8          0.00\n",
      "sachet_3g_9          0.00\n",
      "fb_user_6           74.85\n",
      "fb_user_7           74.43\n",
      "fb_user_8           73.66\n",
      "fb_user_9           74.08\n",
      "aon                  0.00\n",
      "aug_vbc_3g           0.00\n",
      "jul_vbc_3g           0.00\n",
      "jun_vbc_3g           0.00\n",
      "sep_vbc_3g           0.00\n"
     ]
    }
   ],
   "source": [
    "# Looking for missing values in the data\n",
    "\n",
    "pct_nul = df.isnull().sum()/ df.shape[0]\n",
    "\n",
    "pct_nul = pd.DataFrame(pct_nul)\n",
    "\n",
    "print(round(100*(pct_nul.head(50)),2))\n",
    "\n",
    "print(round(100*(pct_nul.tail(50)),2))"
   ]
  },
  {
   "cell_type": "code",
   "execution_count": 9,
   "metadata": {},
   "outputs": [],
   "source": [
    "# extracting the data and % of null for closer inspection\n",
    "pct_nul.to_csv(\"pct_nul1.csv\")"
   ]
  },
  {
   "cell_type": "code",
   "execution_count": 10,
   "metadata": {},
   "outputs": [],
   "source": [
    "# filtering for columns having more than 70% null values\n",
    "nul_col = df[df.columns[df.isnull().sum()/ df.shape[0] > .7]]"
   ]
  },
  {
   "cell_type": "code",
   "execution_count": 11,
   "metadata": {},
   "outputs": [
    {
     "name": "stdout",
     "output_type": "stream",
     "text": [
      "      date_of_last_rech_data_6 date_of_last_rech_data_7  \\\n",
      "0                    6/21/2014                7/16/2014   \n",
      "1                          NaN                7/25/2014   \n",
      "2                          NaN                      NaN   \n",
      "3                          NaN                      NaN   \n",
      "4                     6/4/2014                      NaN   \n",
      "...                        ...                      ...   \n",
      "99994                      NaN                      NaN   \n",
      "99995                      NaN                      NaN   \n",
      "99996                6/13/2014                      NaN   \n",
      "99997                6/17/2014                7/19/2014   \n",
      "99998                6/11/2014                      NaN   \n",
      "\n",
      "      date_of_last_rech_data_8 date_of_last_rech_data_9  total_rech_data_6  \\\n",
      "0                     8/8/2014                      NaN                1.0   \n",
      "1                    8/10/2014                      NaN                NaN   \n",
      "2                          NaN                9/17/2014                NaN   \n",
      "3                          NaN                      NaN                NaN   \n",
      "4                          NaN                      NaN                1.0   \n",
      "...                        ...                      ...                ...   \n",
      "99994                      NaN                      NaN                NaN   \n",
      "99995                      NaN                      NaN                NaN   \n",
      "99996                      NaN                      NaN                2.0   \n",
      "99997                8/20/2014                9/17/2014                3.0   \n",
      "99998                      NaN                      NaN                1.0   \n",
      "\n",
      "       total_rech_data_7  total_rech_data_8  total_rech_data_9  \\\n",
      "0                    1.0                1.0                NaN   \n",
      "1                    1.0                2.0                NaN   \n",
      "2                    NaN                NaN                1.0   \n",
      "3                    NaN                NaN                NaN   \n",
      "4                    NaN                NaN                NaN   \n",
      "...                  ...                ...                ...   \n",
      "99994                NaN                NaN                NaN   \n",
      "99995                NaN                NaN                NaN   \n",
      "99996                NaN                NaN                NaN   \n",
      "99997                2.0                4.0                4.0   \n",
      "99998                NaN                NaN                NaN   \n",
      "\n",
      "       max_rech_data_6  max_rech_data_7  ...  arpu_2g_8  arpu_2g_9  \\\n",
      "0                252.0            252.0  ...     212.17        NaN   \n",
      "1                  NaN            154.0  ...       7.60        NaN   \n",
      "2                  NaN              NaN  ...        NaN       0.00   \n",
      "3                  NaN              NaN  ...        NaN        NaN   \n",
      "4                 56.0              NaN  ...        NaN        NaN   \n",
      "...                ...              ...  ...        ...        ...   \n",
      "99994              NaN              NaN  ...        NaN        NaN   \n",
      "99995              NaN              NaN  ...        NaN        NaN   \n",
      "99996             25.0              NaN  ...        NaN        NaN   \n",
      "99997            202.0            179.0  ...     602.68     725.68   \n",
      "99998            154.0              NaN  ...        NaN        NaN   \n",
      "\n",
      "       night_pck_user_6  night_pck_user_7  night_pck_user_8  night_pck_user_9  \\\n",
      "0                   0.0               0.0               0.0               NaN   \n",
      "1                   NaN               0.0               0.0               NaN   \n",
      "2                   NaN               NaN               NaN               0.0   \n",
      "3                   NaN               NaN               NaN               NaN   \n",
      "4                   0.0               NaN               NaN               NaN   \n",
      "...                 ...               ...               ...               ...   \n",
      "99994               NaN               NaN               NaN               NaN   \n",
      "99995               NaN               NaN               NaN               NaN   \n",
      "99996               0.0               NaN               NaN               NaN   \n",
      "99997               0.0               0.0               0.0               0.0   \n",
      "99998               0.0               NaN               NaN               NaN   \n",
      "\n",
      "       fb_user_6  fb_user_7  fb_user_8  fb_user_9  \n",
      "0            1.0        1.0        1.0        NaN  \n",
      "1            NaN        1.0        1.0        NaN  \n",
      "2            NaN        NaN        NaN        1.0  \n",
      "3            NaN        NaN        NaN        NaN  \n",
      "4            0.0        NaN        NaN        NaN  \n",
      "...          ...        ...        ...        ...  \n",
      "99994        NaN        NaN        NaN        NaN  \n",
      "99995        NaN        NaN        NaN        NaN  \n",
      "99996        1.0        NaN        NaN        NaN  \n",
      "99997        1.0        1.0        1.0        1.0  \n",
      "99998        1.0        NaN        NaN        NaN  \n",
      "\n",
      "[99999 rows x 40 columns]\n"
     ]
    }
   ],
   "source": [
    "print(nul_col)"
   ]
  },
  {
   "cell_type": "markdown",
   "metadata": {},
   "source": [
    "As you can see there are many columns with varying percentages of null values. Some columns even have about 74% of null values. We will first look into this data before deciding what to do...\n",
    "\n",
    "#### Observations: \n",
    "1. There are columns like mobile number,circle_id and last_date_of_month that we dont need as they have a constant value and those columns don't capture any variation in data. Hence, we could consider dropping these columns.\n",
    "2. Some columns containing recharge related information seem to have blank values to indicate that no recharge was made by the user. We will replace these blank values with zero.\n",
    "3. At the same time, there are similar columns like 'count_rech_2g_6','count_rech_2g_7' etc that also have 74% missing value. This could mean that the user only recharged for talktime, and not for any data pack. In a way this can be seen by looking at the last_date_of_recharge. When both columns are empty, it is evident our supposition is correct. So, we can delete these columns too.\n",
    "3. There are some other columns like 'night_pack_user' & 'fb_user' where the data is in a binary (1/0) format. This seems to suggest that the user either uses facebook/night_pack or they dont. We will consider removing these columns alltogether as it will be difficult for us to impute any proper missing values. Mainly due to the fact that these columns have around 74% missing values."
   ]
  },
  {
   "cell_type": "code",
   "execution_count": 12,
   "metadata": {},
   "outputs": [],
   "source": [
    "useless_cols =  ['mobile_number', 'circle_id', \n",
    "             'last_date_of_month_6',\n",
    "             'last_date_of_month_7',\n",
    "             'last_date_of_month_8',\n",
    "             'last_date_of_month_9',\n",
    "             'date_of_last_rech_6',\n",
    "             'date_of_last_rech_7',\n",
    "             'date_of_last_rech_8',\n",
    "             'date_of_last_rech_9',\n",
    "             'date_of_last_rech_data_6',\n",
    "             'date_of_last_rech_data_7',\n",
    "             'date_of_last_rech_data_8',\n",
    "             'date_of_last_rech_data_9',\n",
    "             'fb_user_6','fb_user_7','fb_user_8','fb_user_9',\n",
    "             'night_pck_user_6','night_pck_user_7','night_pck_user_8','night_pck_user_9',\n",
    "             'loc_og_t2o_mou','std_og_t2o_mou','loc_ic_t2o_mou',\n",
    "             'count_rech_3g_6',\n",
    "             'count_rech_2g_6',\n",
    "             'count_rech_3g_7',\n",
    "             'count_rech_2g_7',\n",
    "             'count_rech_3g_9',\n",
    "             'count_rech_2g_9',\n",
    "             'arpu_3g_6',\n",
    "             'arpu_2g_6',                 \n",
    "             'arpu_3g_7',\n",
    "             'arpu_2g_7',\n",
    "             'arpu_3g_8',\n",
    "             'arpu_2g_8',                 \n",
    "             'arpu_3g_9',\n",
    "             'arpu_2g_9',\n",
    "             'count_rech_3g_8',\n",
    "             'count_rech_2g_8']"
   ]
  },
  {
   "cell_type": "code",
   "execution_count": 13,
   "metadata": {},
   "outputs": [],
   "source": [
    "df = df.drop(useless_cols, axis=1)"
   ]
  },
  {
   "cell_type": "code",
   "execution_count": 14,
   "metadata": {},
   "outputs": [
    {
     "data": {
      "text/plain": [
       "(99999, 185)"
      ]
     },
     "execution_count": 14,
     "metadata": {},
     "output_type": "execute_result"
    }
   ],
   "source": [
    "# we've removed 38 columns of data\n",
    "df.shape"
   ]
  },
  {
   "cell_type": "markdown",
   "metadata": {},
   "source": [
    "#### Treating missing values"
   ]
  },
  {
   "cell_type": "markdown",
   "metadata": {},
   "source": [
    "#### i) Imputing with zeroes"
   ]
  },
  {
   "cell_type": "code",
   "execution_count": 15,
   "metadata": {},
   "outputs": [],
   "source": [
    "# create a list of recharge columns where we will impute missing values with zeros \n",
    "\n",
    "rech_cols = ['total_rech_data_6', 'total_rech_data_7', 'total_rech_data_8', 'total_rech_data_9',\n",
    "        'av_rech_amt_data_6', 'av_rech_amt_data_7', 'av_rech_amt_data_8', 'av_rech_amt_data_9',\n",
    "        'max_rech_data_6', 'max_rech_data_7', 'max_rech_data_8', 'max_rech_data_9']"
   ]
  },
  {
   "cell_type": "code",
   "execution_count": 16,
   "metadata": {},
   "outputs": [],
   "source": [
    "# impute missing values with 0\n",
    "df[rech_cols] = df[rech_cols].apply(lambda x: x.fillna(0))"
   ]
  },
  {
   "cell_type": "code",
   "execution_count": 17,
   "metadata": {},
   "outputs": [
    {
     "name": "stdout",
     "output_type": "stream",
     "text": [
      "total_rech_data_6     0.0\n",
      "total_rech_data_7     0.0\n",
      "total_rech_data_8     0.0\n",
      "total_rech_data_9     0.0\n",
      "av_rech_amt_data_6    0.0\n",
      "av_rech_amt_data_7    0.0\n",
      "av_rech_amt_data_8    0.0\n",
      "av_rech_amt_data_9    0.0\n",
      "max_rech_data_6       0.0\n",
      "max_rech_data_7       0.0\n",
      "max_rech_data_8       0.0\n",
      "max_rech_data_9       0.0\n",
      "dtype: float64\n"
     ]
    }
   ],
   "source": [
    "# Checking if there are any more null values\n",
    "print(df[rech_cols].isnull().sum()*100/df.shape[1])"
   ]
  },
  {
   "cell_type": "code",
   "execution_count": 18,
   "metadata": {},
   "outputs": [
    {
     "data": {
      "text/html": [
       "<div>\n",
       "<style scoped>\n",
       "    .dataframe tbody tr th:only-of-type {\n",
       "        vertical-align: middle;\n",
       "    }\n",
       "\n",
       "    .dataframe tbody tr th {\n",
       "        vertical-align: top;\n",
       "    }\n",
       "\n",
       "    .dataframe thead th {\n",
       "        text-align: right;\n",
       "    }\n",
       "</style>\n",
       "<table border=\"1\" class=\"dataframe\">\n",
       "  <thead>\n",
       "    <tr style=\"text-align: right;\">\n",
       "      <th></th>\n",
       "      <th>arpu_6</th>\n",
       "      <th>arpu_7</th>\n",
       "      <th>arpu_8</th>\n",
       "      <th>arpu_9</th>\n",
       "      <th>onnet_mou_6</th>\n",
       "      <th>onnet_mou_7</th>\n",
       "      <th>onnet_mou_8</th>\n",
       "      <th>onnet_mou_9</th>\n",
       "      <th>offnet_mou_6</th>\n",
       "      <th>offnet_mou_7</th>\n",
       "      <th>...</th>\n",
       "      <th>monthly_3g_9</th>\n",
       "      <th>sachet_3g_6</th>\n",
       "      <th>sachet_3g_7</th>\n",
       "      <th>sachet_3g_8</th>\n",
       "      <th>sachet_3g_9</th>\n",
       "      <th>aon</th>\n",
       "      <th>aug_vbc_3g</th>\n",
       "      <th>jul_vbc_3g</th>\n",
       "      <th>jun_vbc_3g</th>\n",
       "      <th>sep_vbc_3g</th>\n",
       "    </tr>\n",
       "  </thead>\n",
       "  <tbody>\n",
       "    <tr>\n",
       "      <td>count</td>\n",
       "      <td>99999.000000</td>\n",
       "      <td>99999.000000</td>\n",
       "      <td>99999.000000</td>\n",
       "      <td>99999.000000</td>\n",
       "      <td>96062.000000</td>\n",
       "      <td>96140.000000</td>\n",
       "      <td>94621.000000</td>\n",
       "      <td>92254.000000</td>\n",
       "      <td>96062.000000</td>\n",
       "      <td>96140.000000</td>\n",
       "      <td>...</td>\n",
       "      <td>99999.000000</td>\n",
       "      <td>99999.000000</td>\n",
       "      <td>99999.000000</td>\n",
       "      <td>99999.000000</td>\n",
       "      <td>99999.000000</td>\n",
       "      <td>99999.000000</td>\n",
       "      <td>99999.000000</td>\n",
       "      <td>99999.000000</td>\n",
       "      <td>99999.000000</td>\n",
       "      <td>99999.000000</td>\n",
       "    </tr>\n",
       "    <tr>\n",
       "      <td>mean</td>\n",
       "      <td>282.987358</td>\n",
       "      <td>278.536648</td>\n",
       "      <td>279.154731</td>\n",
       "      <td>261.645069</td>\n",
       "      <td>132.395875</td>\n",
       "      <td>133.670805</td>\n",
       "      <td>133.018098</td>\n",
       "      <td>130.302327</td>\n",
       "      <td>197.935577</td>\n",
       "      <td>197.045133</td>\n",
       "      <td>...</td>\n",
       "      <td>0.086341</td>\n",
       "      <td>0.074781</td>\n",
       "      <td>0.080401</td>\n",
       "      <td>0.084501</td>\n",
       "      <td>0.084581</td>\n",
       "      <td>1219.854749</td>\n",
       "      <td>68.170248</td>\n",
       "      <td>66.839062</td>\n",
       "      <td>60.021204</td>\n",
       "      <td>3.299373</td>\n",
       "    </tr>\n",
       "    <tr>\n",
       "      <td>std</td>\n",
       "      <td>328.439770</td>\n",
       "      <td>338.156291</td>\n",
       "      <td>344.474791</td>\n",
       "      <td>341.998630</td>\n",
       "      <td>297.207406</td>\n",
       "      <td>308.794148</td>\n",
       "      <td>308.951589</td>\n",
       "      <td>308.477668</td>\n",
       "      <td>316.851613</td>\n",
       "      <td>325.862803</td>\n",
       "      <td>...</td>\n",
       "      <td>0.384978</td>\n",
       "      <td>0.568344</td>\n",
       "      <td>0.628334</td>\n",
       "      <td>0.660234</td>\n",
       "      <td>0.650457</td>\n",
       "      <td>954.733842</td>\n",
       "      <td>267.580450</td>\n",
       "      <td>271.201856</td>\n",
       "      <td>253.938223</td>\n",
       "      <td>32.408353</td>\n",
       "    </tr>\n",
       "    <tr>\n",
       "      <td>min</td>\n",
       "      <td>-2258.709000</td>\n",
       "      <td>-2014.045000</td>\n",
       "      <td>-945.808000</td>\n",
       "      <td>-1899.505000</td>\n",
       "      <td>0.000000</td>\n",
       "      <td>0.000000</td>\n",
       "      <td>0.000000</td>\n",
       "      <td>0.000000</td>\n",
       "      <td>0.000000</td>\n",
       "      <td>0.000000</td>\n",
       "      <td>...</td>\n",
       "      <td>0.000000</td>\n",
       "      <td>0.000000</td>\n",
       "      <td>0.000000</td>\n",
       "      <td>0.000000</td>\n",
       "      <td>0.000000</td>\n",
       "      <td>180.000000</td>\n",
       "      <td>0.000000</td>\n",
       "      <td>0.000000</td>\n",
       "      <td>0.000000</td>\n",
       "      <td>0.000000</td>\n",
       "    </tr>\n",
       "    <tr>\n",
       "      <td>25%</td>\n",
       "      <td>93.411500</td>\n",
       "      <td>86.980500</td>\n",
       "      <td>84.126000</td>\n",
       "      <td>62.685000</td>\n",
       "      <td>7.380000</td>\n",
       "      <td>6.660000</td>\n",
       "      <td>6.460000</td>\n",
       "      <td>5.330000</td>\n",
       "      <td>34.730000</td>\n",
       "      <td>32.190000</td>\n",
       "      <td>...</td>\n",
       "      <td>0.000000</td>\n",
       "      <td>0.000000</td>\n",
       "      <td>0.000000</td>\n",
       "      <td>0.000000</td>\n",
       "      <td>0.000000</td>\n",
       "      <td>467.000000</td>\n",
       "      <td>0.000000</td>\n",
       "      <td>0.000000</td>\n",
       "      <td>0.000000</td>\n",
       "      <td>0.000000</td>\n",
       "    </tr>\n",
       "    <tr>\n",
       "      <td>50%</td>\n",
       "      <td>197.704000</td>\n",
       "      <td>191.640000</td>\n",
       "      <td>192.080000</td>\n",
       "      <td>176.849000</td>\n",
       "      <td>34.310000</td>\n",
       "      <td>32.330000</td>\n",
       "      <td>32.360000</td>\n",
       "      <td>29.840000</td>\n",
       "      <td>96.310000</td>\n",
       "      <td>91.735000</td>\n",
       "      <td>...</td>\n",
       "      <td>0.000000</td>\n",
       "      <td>0.000000</td>\n",
       "      <td>0.000000</td>\n",
       "      <td>0.000000</td>\n",
       "      <td>0.000000</td>\n",
       "      <td>863.000000</td>\n",
       "      <td>0.000000</td>\n",
       "      <td>0.000000</td>\n",
       "      <td>0.000000</td>\n",
       "      <td>0.000000</td>\n",
       "    </tr>\n",
       "    <tr>\n",
       "      <td>75%</td>\n",
       "      <td>371.060000</td>\n",
       "      <td>365.344500</td>\n",
       "      <td>369.370500</td>\n",
       "      <td>353.466500</td>\n",
       "      <td>118.740000</td>\n",
       "      <td>115.595000</td>\n",
       "      <td>115.860000</td>\n",
       "      <td>112.130000</td>\n",
       "      <td>231.860000</td>\n",
       "      <td>226.815000</td>\n",
       "      <td>...</td>\n",
       "      <td>0.000000</td>\n",
       "      <td>0.000000</td>\n",
       "      <td>0.000000</td>\n",
       "      <td>0.000000</td>\n",
       "      <td>0.000000</td>\n",
       "      <td>1807.500000</td>\n",
       "      <td>0.000000</td>\n",
       "      <td>0.000000</td>\n",
       "      <td>0.000000</td>\n",
       "      <td>0.000000</td>\n",
       "    </tr>\n",
       "    <tr>\n",
       "      <td>max</td>\n",
       "      <td>27731.088000</td>\n",
       "      <td>35145.834000</td>\n",
       "      <td>33543.624000</td>\n",
       "      <td>38805.617000</td>\n",
       "      <td>7376.710000</td>\n",
       "      <td>8157.780000</td>\n",
       "      <td>10752.560000</td>\n",
       "      <td>10427.460000</td>\n",
       "      <td>8362.360000</td>\n",
       "      <td>9667.130000</td>\n",
       "      <td>...</td>\n",
       "      <td>11.000000</td>\n",
       "      <td>29.000000</td>\n",
       "      <td>35.000000</td>\n",
       "      <td>41.000000</td>\n",
       "      <td>49.000000</td>\n",
       "      <td>4337.000000</td>\n",
       "      <td>12916.220000</td>\n",
       "      <td>9165.600000</td>\n",
       "      <td>11166.210000</td>\n",
       "      <td>2618.570000</td>\n",
       "    </tr>\n",
       "  </tbody>\n",
       "</table>\n",
       "<p>8 rows × 185 columns</p>\n",
       "</div>"
      ],
      "text/plain": [
       "             arpu_6        arpu_7        arpu_8        arpu_9   onnet_mou_6  \\\n",
       "count  99999.000000  99999.000000  99999.000000  99999.000000  96062.000000   \n",
       "mean     282.987358    278.536648    279.154731    261.645069    132.395875   \n",
       "std      328.439770    338.156291    344.474791    341.998630    297.207406   \n",
       "min    -2258.709000  -2014.045000   -945.808000  -1899.505000      0.000000   \n",
       "25%       93.411500     86.980500     84.126000     62.685000      7.380000   \n",
       "50%      197.704000    191.640000    192.080000    176.849000     34.310000   \n",
       "75%      371.060000    365.344500    369.370500    353.466500    118.740000   \n",
       "max    27731.088000  35145.834000  33543.624000  38805.617000   7376.710000   \n",
       "\n",
       "        onnet_mou_7   onnet_mou_8   onnet_mou_9  offnet_mou_6  offnet_mou_7  \\\n",
       "count  96140.000000  94621.000000  92254.000000  96062.000000  96140.000000   \n",
       "mean     133.670805    133.018098    130.302327    197.935577    197.045133   \n",
       "std      308.794148    308.951589    308.477668    316.851613    325.862803   \n",
       "min        0.000000      0.000000      0.000000      0.000000      0.000000   \n",
       "25%        6.660000      6.460000      5.330000     34.730000     32.190000   \n",
       "50%       32.330000     32.360000     29.840000     96.310000     91.735000   \n",
       "75%      115.595000    115.860000    112.130000    231.860000    226.815000   \n",
       "max     8157.780000  10752.560000  10427.460000   8362.360000   9667.130000   \n",
       "\n",
       "       ...  monthly_3g_9   sachet_3g_6   sachet_3g_7   sachet_3g_8  \\\n",
       "count  ...  99999.000000  99999.000000  99999.000000  99999.000000   \n",
       "mean   ...      0.086341      0.074781      0.080401      0.084501   \n",
       "std    ...      0.384978      0.568344      0.628334      0.660234   \n",
       "min    ...      0.000000      0.000000      0.000000      0.000000   \n",
       "25%    ...      0.000000      0.000000      0.000000      0.000000   \n",
       "50%    ...      0.000000      0.000000      0.000000      0.000000   \n",
       "75%    ...      0.000000      0.000000      0.000000      0.000000   \n",
       "max    ...     11.000000     29.000000     35.000000     41.000000   \n",
       "\n",
       "        sachet_3g_9           aon    aug_vbc_3g    jul_vbc_3g    jun_vbc_3g  \\\n",
       "count  99999.000000  99999.000000  99999.000000  99999.000000  99999.000000   \n",
       "mean       0.084581   1219.854749     68.170248     66.839062     60.021204   \n",
       "std        0.650457    954.733842    267.580450    271.201856    253.938223   \n",
       "min        0.000000    180.000000      0.000000      0.000000      0.000000   \n",
       "25%        0.000000    467.000000      0.000000      0.000000      0.000000   \n",
       "50%        0.000000    863.000000      0.000000      0.000000      0.000000   \n",
       "75%        0.000000   1807.500000      0.000000      0.000000      0.000000   \n",
       "max       49.000000   4337.000000  12916.220000   9165.600000  11166.210000   \n",
       "\n",
       "         sep_vbc_3g  \n",
       "count  99999.000000  \n",
       "mean       3.299373  \n",
       "std       32.408353  \n",
       "min        0.000000  \n",
       "25%        0.000000  \n",
       "50%        0.000000  \n",
       "75%        0.000000  \n",
       "max     2618.570000  \n",
       "\n",
       "[8 rows x 185 columns]"
      ]
     },
     "execution_count": 18,
     "metadata": {},
     "output_type": "execute_result"
    }
   ],
   "source": [
    "df.describe(include = 'all')"
   ]
  },
  {
   "cell_type": "code",
   "execution_count": 19,
   "metadata": {},
   "outputs": [],
   "source": [
    "# exporting null value details to csv to check again\n",
    "pct_nul2 = df.isnull().sum()/ df.shape[0]\n",
    "\n",
    "pct_nul2 = pd.DataFrame(pct_nul2)\n",
    "\n",
    "pct_nul2.to_csv(\"pct_nul2.csv\")"
   ]
  },
  {
   "cell_type": "code",
   "execution_count": 20,
   "metadata": {},
   "outputs": [
    {
     "name": "stdout",
     "output_type": "stream",
     "text": [
      "                     0\n",
      "arpu_6            0.00\n",
      "arpu_7            0.00\n",
      "arpu_8            0.00\n",
      "arpu_9            0.00\n",
      "onnet_mou_6       3.94\n",
      "onnet_mou_7       3.86\n",
      "onnet_mou_8       5.38\n",
      "onnet_mou_9       7.75\n",
      "offnet_mou_6      3.94\n",
      "offnet_mou_7      3.86\n",
      "offnet_mou_8      5.38\n",
      "offnet_mou_9      7.75\n",
      "roam_ic_mou_6     3.94\n",
      "roam_ic_mou_7     3.86\n",
      "roam_ic_mou_8     5.38\n",
      "roam_ic_mou_9     7.75\n",
      "roam_og_mou_6     3.94\n",
      "roam_og_mou_7     3.86\n",
      "roam_og_mou_8     5.38\n",
      "roam_og_mou_9     7.75\n",
      "loc_og_t2t_mou_6  3.94\n",
      "loc_og_t2t_mou_7  3.86\n",
      "loc_og_t2t_mou_8  5.38\n",
      "loc_og_t2t_mou_9  7.75\n",
      "loc_og_t2m_mou_6  3.94\n",
      "loc_og_t2m_mou_7  3.86\n",
      "loc_og_t2m_mou_8  5.38\n",
      "loc_og_t2m_mou_9  7.75\n",
      "loc_og_t2f_mou_6  3.94\n",
      "loc_og_t2f_mou_7  3.86\n",
      "loc_og_t2f_mou_8  5.38\n",
      "loc_og_t2f_mou_9  7.75\n",
      "loc_og_t2c_mou_6  3.94\n",
      "loc_og_t2c_mou_7  3.86\n",
      "loc_og_t2c_mou_8  5.38\n",
      "loc_og_t2c_mou_9  7.75\n",
      "loc_og_mou_6      3.94\n",
      "loc_og_mou_7      3.86\n",
      "loc_og_mou_8      5.38\n",
      "loc_og_mou_9      7.75\n",
      "std_og_t2t_mou_6  3.94\n",
      "std_og_t2t_mou_7  3.86\n",
      "std_og_t2t_mou_8  5.38\n",
      "std_og_t2t_mou_9  7.75\n",
      "std_og_t2m_mou_6  3.94\n",
      "std_og_t2m_mou_7  3.86\n",
      "std_og_t2m_mou_8  5.38\n",
      "std_og_t2m_mou_9  7.75\n",
      "std_og_t2f_mou_6  3.94\n",
      "std_og_t2f_mou_7  3.86\n",
      "std_og_t2f_mou_8  5.38\n",
      "std_og_t2f_mou_9  7.75\n",
      "std_og_t2c_mou_6  3.94\n",
      "std_og_t2c_mou_7  3.86\n",
      "std_og_t2c_mou_8  5.38\n",
      "std_og_t2c_mou_9  7.75\n",
      "std_og_mou_6      3.94\n",
      "std_og_mou_7      3.86\n",
      "std_og_mou_8      5.38\n",
      "std_og_mou_9      7.75\n"
     ]
    }
   ],
   "source": [
    "print(round(100*(pct_nul2.head(60)),2))"
   ]
  },
  {
   "cell_type": "markdown",
   "metadata": {},
   "source": [
    "#### Observations:\n",
    "\n",
    "- Looking at the data, we see that many columns belonging to the 9th month, like 'onnet_mou_9','offnet_mou_9','roam_ic_mou_9' etc. are missing about 8% of the data. Now this could be because those users have already churned and are no longer online. Hence, it would be safer to impute those missing values with zero.\n",
    "- Some columns like 'arpu_6', 'arpu_7' also have negative values. If the average revenue per user is negative, this may indicate the arrears accrued by customers who have not paid their bill (mostly post paid customers). So doing a median treatment here might be ok. \n",
    "- For the remaining month's data, we will impute with the median value as we could avoid any variations in the data caused by outliers"
   ]
  },
  {
   "cell_type": "code",
   "execution_count": 21,
   "metadata": {},
   "outputs": [],
   "source": [
    "# making a list of 9th month columns\n",
    "\n",
    "nine_mon_cols = ['onnet_mou_9',\n",
    "'offnet_mou_9',\n",
    "'roam_ic_mou_9',\n",
    "'roam_og_mou_9',\n",
    "'loc_og_t2t_mou_9',\n",
    "'loc_og_t2m_mou_9',\n",
    "'loc_og_t2f_mou_9',\n",
    "'loc_og_t2c_mou_9',\n",
    "'loc_og_mou_9',\n",
    "'std_og_t2t_mou_9',\n",
    "'std_og_t2m_mou_9',\n",
    "'std_og_t2f_mou_9',\n",
    "'std_og_t2c_mou_9',\n",
    "'std_og_mou_9',\n",
    "'isd_og_mou_9',\n",
    "'spl_og_mou_9',\n",
    "'og_others_9',\n",
    "'loc_ic_t2t_mou_9',\n",
    "'loc_ic_t2m_mou_9',\n",
    "'loc_ic_t2f_mou_9',\n",
    "'loc_ic_mou_9',\n",
    "'std_ic_t2t_mou_9',\n",
    "'std_ic_t2m_mou_9',\n",
    "'std_ic_t2f_mou_9',\n",
    "'std_ic_t2o_mou_9',\n",
    "'std_ic_mou_9',\n",
    "'spl_ic_mou_9',\n",
    "'isd_ic_mou_9',\n",
    "'ic_others_9']\n",
    "                 \n",
    "# and another list of remaining columns\n",
    "remaining_cols = ['onnet_mou_8',\n",
    "'offnet_mou_8',\n",
    "'roam_ic_mou_8',\n",
    "'roam_og_mou_8',\n",
    "'loc_og_t2t_mou_8',\n",
    "'loc_og_t2m_mou_8',\n",
    "'loc_og_t2f_mou_8',\n",
    "'loc_og_t2c_mou_8',\n",
    "'loc_og_mou_8',\n",
    "'std_og_t2t_mou_8',\n",
    "'std_og_t2m_mou_8',\n",
    "'std_og_t2f_mou_8',\n",
    "'std_og_t2c_mou_8',\n",
    "'std_og_mou_8',\n",
    "'isd_og_mou_8',\n",
    "'spl_og_mou_8',\n",
    "'og_others_8',\n",
    "'loc_ic_t2t_mou_8',\n",
    "'loc_ic_t2m_mou_8',\n",
    "'loc_ic_t2f_mou_8',\n",
    "'loc_ic_mou_8',\n",
    "'std_ic_t2t_mou_8',\n",
    "'std_ic_t2m_mou_8',\n",
    "'std_ic_t2f_mou_8',\n",
    "'std_ic_t2o_mou_8',\n",
    "'std_ic_mou_8',\n",
    "'spl_ic_mou_8',\n",
    "'isd_ic_mou_8',\n",
    "'ic_others_8',\n",
    "'onnet_mou_6',\n",
    "'offnet_mou_6',\n",
    "'roam_ic_mou_6',\n",
    "'roam_og_mou_6',\n",
    "'loc_og_t2t_mou_6',\n",
    "'loc_og_t2m_mou_6',\n",
    "'loc_og_t2f_mou_6',\n",
    "'loc_og_t2c_mou_6',\n",
    "'loc_og_mou_6',\n",
    "'std_og_t2t_mou_6',\n",
    "'std_og_t2m_mou_6',\n",
    "'std_og_t2f_mou_6',\n",
    "'std_og_t2c_mou_6',\n",
    "'std_og_mou_6',\n",
    "'isd_og_mou_6',\n",
    "'spl_og_mou_6',\n",
    "'og_others_6',\n",
    "'loc_ic_t2t_mou_6',\n",
    "'loc_ic_t2m_mou_6',\n",
    "'loc_ic_t2f_mou_6',\n",
    "'loc_ic_mou_6',\n",
    "'std_ic_t2t_mou_6',\n",
    "'std_ic_t2m_mou_6',\n",
    "'std_ic_t2f_mou_6',\n",
    "'std_ic_t2o_mou_6',\n",
    "'std_ic_mou_6',\n",
    "'spl_ic_mou_6',\n",
    "'isd_ic_mou_6',\n",
    "'ic_others_6',\n",
    "'onnet_mou_7',\n",
    "'offnet_mou_7',\n",
    "'roam_ic_mou_7',\n",
    "'roam_og_mou_7',\n",
    "'loc_og_t2t_mou_7',\n",
    "'loc_og_t2m_mou_7',\n",
    "'loc_og_t2f_mou_7',\n",
    "'loc_og_t2c_mou_7',\n",
    "'loc_og_mou_7',\n",
    "'std_og_t2t_mou_7',\n",
    "'std_og_t2m_mou_7',\n",
    "'std_og_t2f_mou_7',\n",
    "'std_og_t2c_mou_7',\n",
    "'std_og_mou_7',\n",
    "'isd_og_mou_7',\n",
    "'spl_og_mou_7',\n",
    "'og_others_7',\n",
    "'loc_ic_t2t_mou_7',\n",
    "'loc_ic_t2m_mou_7',\n",
    "'loc_ic_t2f_mou_7',\n",
    "'loc_ic_mou_7',\n",
    "'std_ic_t2t_mou_7',\n",
    "'std_ic_t2m_mou_7',\n",
    "'std_ic_t2f_mou_7',\n",
    "'std_ic_t2o_mou_7',\n",
    "'std_ic_mou_7',\n",
    "'spl_ic_mou_7',\n",
    "'isd_ic_mou_7',\n",
    "'ic_others_7']"
   ]
  },
  {
   "cell_type": "code",
   "execution_count": 22,
   "metadata": {},
   "outputs": [],
   "source": [
    "# impute missing values from 9th month columns with 0\n",
    "df[nine_mon_cols] = df[nine_mon_cols].apply(lambda x: x.fillna(0))"
   ]
  },
  {
   "cell_type": "code",
   "execution_count": 23,
   "metadata": {},
   "outputs": [],
   "source": [
    "# imputing the remaining missing values with the median\n",
    "df[remaining_cols] = df[remaining_cols].fillna((df[remaining_cols].median()))"
   ]
  },
  {
   "cell_type": "code",
   "execution_count": 24,
   "metadata": {},
   "outputs": [
    {
     "name": "stdout",
     "output_type": "stream",
     "text": [
      "onnet_mou_9         0.0\n",
      "offnet_mou_9        0.0\n",
      "roam_ic_mou_9       0.0\n",
      "roam_og_mou_9       0.0\n",
      "loc_og_t2t_mou_9    0.0\n",
      "loc_og_t2m_mou_9    0.0\n",
      "loc_og_t2f_mou_9    0.0\n",
      "loc_og_t2c_mou_9    0.0\n",
      "loc_og_mou_9        0.0\n",
      "std_og_t2t_mou_9    0.0\n",
      "std_og_t2m_mou_9    0.0\n",
      "std_og_t2f_mou_9    0.0\n",
      "std_og_t2c_mou_9    0.0\n",
      "std_og_mou_9        0.0\n",
      "isd_og_mou_9        0.0\n",
      "spl_og_mou_9        0.0\n",
      "og_others_9         0.0\n",
      "loc_ic_t2t_mou_9    0.0\n",
      "loc_ic_t2m_mou_9    0.0\n",
      "loc_ic_t2f_mou_9    0.0\n",
      "loc_ic_mou_9        0.0\n",
      "std_ic_t2t_mou_9    0.0\n",
      "std_ic_t2m_mou_9    0.0\n",
      "std_ic_t2f_mou_9    0.0\n",
      "std_ic_t2o_mou_9    0.0\n",
      "std_ic_mou_9        0.0\n",
      "spl_ic_mou_9        0.0\n",
      "isd_ic_mou_9        0.0\n",
      "ic_others_9         0.0\n",
      "dtype: float64\n"
     ]
    }
   ],
   "source": [
    "# looks like there are no more missing values\n",
    "print(df[nine_mon_cols].isnull().sum()*100/df.shape[1])"
   ]
  },
  {
   "cell_type": "code",
   "execution_count": 25,
   "metadata": {},
   "outputs": [
    {
     "name": "stdout",
     "output_type": "stream",
     "text": [
      "onnet_mou_8         0.0\n",
      "offnet_mou_8        0.0\n",
      "roam_ic_mou_8       0.0\n",
      "roam_og_mou_8       0.0\n",
      "loc_og_t2t_mou_8    0.0\n",
      "                   ... \n",
      "std_ic_t2o_mou_7    0.0\n",
      "std_ic_mou_7        0.0\n",
      "spl_ic_mou_7        0.0\n",
      "isd_ic_mou_7        0.0\n",
      "ic_others_7         0.0\n",
      "Length: 87, dtype: float64\n"
     ]
    }
   ],
   "source": [
    "print(df[remaining_cols].isnull().sum()*100/df.shape[1])"
   ]
  },
  {
   "cell_type": "markdown",
   "metadata": {},
   "source": [
    "#### Creating new features - inlcuding deriving the high value customer info\n",
    "\n",
    "- now that we have cleaned up the data, we could create new features to get an idea of some basic trends"
   ]
  },
  {
   "cell_type": "code",
   "execution_count": 26,
   "metadata": {},
   "outputs": [],
   "source": [
    "# calculating the time (in years) a customer has spent with the provider\n",
    "df['yr_on_network'] = round((df['aon']/365),0)"
   ]
  },
  {
   "cell_type": "code",
   "execution_count": 27,
   "metadata": {},
   "outputs": [
    {
     "data": {
      "text/plain": [
       "Text(0.5, 0, 'Years')"
      ]
     },
     "execution_count": 27,
     "metadata": {},
     "output_type": "execute_result"
    },
    {
     "data": {
      "image/png": "[encoded data removed]",
      "text/plain": [
       "<Figure size 720x576 with 1 Axes>"
      ]
     },
     "metadata": {
      "needs_background": "light"
     },
     "output_type": "display_data"
    }
   ],
   "source": [
    "# let's just visualise how long users normally stay on the network\n",
    "# looks like most users stay only for about 1-2 years and then move on\n",
    "\n",
    "fig = plt.figure(figsize=(10,8))\n",
    "sns.distplot((df.yr_on_network), bins = 10)\n",
    "fig.suptitle('Years on Network', fontsize = 20)\n",
    "plt.xlabel('Years', fontsize = 18)"
   ]
  },
  {
   "cell_type": "code",
   "execution_count": 28,
   "metadata": {},
   "outputs": [],
   "source": [
    "# Total minutes of on-network and off-network usage in months 6 & 7\n",
    "df['total_onnet_mou_6and7'] = df['onnet_mou_6'] + df['onnet_mou_7'] \n",
    "\n",
    "df['total_offnet_mou_6and7'] = df['offnet_mou_6'] + df['offnet_mou_7']"
   ]
  },
  {
   "cell_type": "code",
   "execution_count": 29,
   "metadata": {},
   "outputs": [],
   "source": [
    "# checking percentage of on-network usage\n",
    "# the idea is if a person is dialing more off-network numbers, it might be an indicator of churn\n",
    "\n",
    "df['pct_onnet_usage'] = round( 100*(df['total_onnet_mou_6and7'] / (df['total_onnet_mou_6and7'] + df['total_offnet_mou_6and7'])),2)"
   ]
  },
  {
   "cell_type": "code",
   "execution_count": 30,
   "metadata": {},
   "outputs": [],
   "source": [
    "# now we'll calculate the total data recharged in months 6 & 7\n",
    "df['total_data_rech_6'] = df.total_rech_data_6 * df.av_rech_amt_data_6\n",
    "df['total_data_rech_7'] = df.total_rech_data_7 * df.av_rech_amt_data_7"
   ]
  },
  {
   "cell_type": "code",
   "execution_count": 31,
   "metadata": {},
   "outputs": [],
   "source": [
    "# here we will calculate total recharge amount (talktime plus data)\n",
    "df['amt_data_6'] = df.total_rech_amt_6 + df.total_data_rech_6\n",
    "df['amt_data_7'] = df.total_rech_amt_7 + df.total_data_rech_7\n",
    "df['av_amt_data_6_7'] = (df.amt_data_6 + df.amt_data_7)/2"
   ]
  },
  {
   "cell_type": "code",
   "execution_count": 32,
   "metadata": {},
   "outputs": [
    {
     "data": {
      "text/html": [
       "<div>\n",
       "<style scoped>\n",
       "    .dataframe tbody tr th:only-of-type {\n",
       "        vertical-align: middle;\n",
       "    }\n",
       "\n",
       "    .dataframe tbody tr th {\n",
       "        vertical-align: top;\n",
       "    }\n",
       "\n",
       "    .dataframe thead th {\n",
       "        text-align: right;\n",
       "    }\n",
       "</style>\n",
       "<table border=\"1\" class=\"dataframe\">\n",
       "  <thead>\n",
       "    <tr style=\"text-align: right;\">\n",
       "      <th></th>\n",
       "      <th>arpu_6</th>\n",
       "      <th>arpu_7</th>\n",
       "      <th>arpu_8</th>\n",
       "      <th>arpu_9</th>\n",
       "      <th>onnet_mou_6</th>\n",
       "      <th>onnet_mou_7</th>\n",
       "      <th>onnet_mou_8</th>\n",
       "      <th>onnet_mou_9</th>\n",
       "      <th>offnet_mou_6</th>\n",
       "      <th>offnet_mou_7</th>\n",
       "      <th>...</th>\n",
       "      <th>sep_vbc_3g</th>\n",
       "      <th>yr_on_network</th>\n",
       "      <th>total_onnet_mou_6and7</th>\n",
       "      <th>total_offnet_mou_6and7</th>\n",
       "      <th>pct_onnet_usage</th>\n",
       "      <th>total_data_rech_6</th>\n",
       "      <th>total_data_rech_7</th>\n",
       "      <th>amt_data_6</th>\n",
       "      <th>amt_data_7</th>\n",
       "      <th>av_amt_data_6_7</th>\n",
       "    </tr>\n",
       "  </thead>\n",
       "  <tbody>\n",
       "    <tr>\n",
       "      <td>0</td>\n",
       "      <td>197.385</td>\n",
       "      <td>214.816</td>\n",
       "      <td>213.803</td>\n",
       "      <td>21.100</td>\n",
       "      <td>34.31</td>\n",
       "      <td>32.33</td>\n",
       "      <td>0.00</td>\n",
       "      <td>0.00</td>\n",
       "      <td>96.31</td>\n",
       "      <td>91.735</td>\n",
       "      <td>...</td>\n",
       "      <td>3.58</td>\n",
       "      <td>3.0</td>\n",
       "      <td>66.64</td>\n",
       "      <td>188.045</td>\n",
       "      <td>26.17</td>\n",
       "      <td>252.0</td>\n",
       "      <td>252.0</td>\n",
       "      <td>614.0</td>\n",
       "      <td>504.0</td>\n",
       "      <td>559.0</td>\n",
       "    </tr>\n",
       "    <tr>\n",
       "      <td>1</td>\n",
       "      <td>34.047</td>\n",
       "      <td>355.074</td>\n",
       "      <td>268.321</td>\n",
       "      <td>86.285</td>\n",
       "      <td>24.11</td>\n",
       "      <td>78.68</td>\n",
       "      <td>7.68</td>\n",
       "      <td>18.34</td>\n",
       "      <td>15.74</td>\n",
       "      <td>99.840</td>\n",
       "      <td>...</td>\n",
       "      <td>0.00</td>\n",
       "      <td>3.0</td>\n",
       "      <td>102.79</td>\n",
       "      <td>115.580</td>\n",
       "      <td>47.07</td>\n",
       "      <td>0.0</td>\n",
       "      <td>154.0</td>\n",
       "      <td>74.0</td>\n",
       "      <td>538.0</td>\n",
       "      <td>306.0</td>\n",
       "    </tr>\n",
       "    <tr>\n",
       "      <td>2</td>\n",
       "      <td>167.690</td>\n",
       "      <td>189.058</td>\n",
       "      <td>210.226</td>\n",
       "      <td>290.714</td>\n",
       "      <td>11.54</td>\n",
       "      <td>55.24</td>\n",
       "      <td>37.26</td>\n",
       "      <td>74.81</td>\n",
       "      <td>143.33</td>\n",
       "      <td>220.590</td>\n",
       "      <td>...</td>\n",
       "      <td>0.00</td>\n",
       "      <td>3.0</td>\n",
       "      <td>66.78</td>\n",
       "      <td>363.920</td>\n",
       "      <td>15.50</td>\n",
       "      <td>0.0</td>\n",
       "      <td>0.0</td>\n",
       "      <td>168.0</td>\n",
       "      <td>315.0</td>\n",
       "      <td>241.5</td>\n",
       "    </tr>\n",
       "    <tr>\n",
       "      <td>3</td>\n",
       "      <td>221.338</td>\n",
       "      <td>251.102</td>\n",
       "      <td>508.054</td>\n",
       "      <td>389.500</td>\n",
       "      <td>99.91</td>\n",
       "      <td>54.39</td>\n",
       "      <td>310.98</td>\n",
       "      <td>241.71</td>\n",
       "      <td>123.31</td>\n",
       "      <td>109.010</td>\n",
       "      <td>...</td>\n",
       "      <td>0.00</td>\n",
       "      <td>7.0</td>\n",
       "      <td>154.30</td>\n",
       "      <td>232.320</td>\n",
       "      <td>39.91</td>\n",
       "      <td>0.0</td>\n",
       "      <td>0.0</td>\n",
       "      <td>230.0</td>\n",
       "      <td>310.0</td>\n",
       "      <td>270.0</td>\n",
       "    </tr>\n",
       "    <tr>\n",
       "      <td>4</td>\n",
       "      <td>261.636</td>\n",
       "      <td>309.876</td>\n",
       "      <td>238.174</td>\n",
       "      <td>163.426</td>\n",
       "      <td>50.31</td>\n",
       "      <td>149.44</td>\n",
       "      <td>83.89</td>\n",
       "      <td>58.78</td>\n",
       "      <td>76.96</td>\n",
       "      <td>91.880</td>\n",
       "      <td>...</td>\n",
       "      <td>0.00</td>\n",
       "      <td>4.0</td>\n",
       "      <td>199.75</td>\n",
       "      <td>168.840</td>\n",
       "      <td>54.19</td>\n",
       "      <td>56.0</td>\n",
       "      <td>0.0</td>\n",
       "      <td>252.0</td>\n",
       "      <td>350.0</td>\n",
       "      <td>301.0</td>\n",
       "    </tr>\n",
       "  </tbody>\n",
       "</table>\n",
       "<p>5 rows × 194 columns</p>\n",
       "</div>"
      ],
      "text/plain": [
       "    arpu_6   arpu_7   arpu_8   arpu_9  onnet_mou_6  onnet_mou_7  onnet_mou_8  \\\n",
       "0  197.385  214.816  213.803   21.100        34.31        32.33         0.00   \n",
       "1   34.047  355.074  268.321   86.285        24.11        78.68         7.68   \n",
       "2  167.690  189.058  210.226  290.714        11.54        55.24        37.26   \n",
       "3  221.338  251.102  508.054  389.500        99.91        54.39       310.98   \n",
       "4  261.636  309.876  238.174  163.426        50.31       149.44        83.89   \n",
       "\n",
       "   onnet_mou_9  offnet_mou_6  offnet_mou_7  ...  sep_vbc_3g  yr_on_network  \\\n",
       "0         0.00         96.31        91.735  ...        3.58            3.0   \n",
       "1        18.34         15.74        99.840  ...        0.00            3.0   \n",
       "2        74.81        143.33       220.590  ...        0.00            3.0   \n",
       "3       241.71        123.31       109.010  ...        0.00            7.0   \n",
       "4        58.78         76.96        91.880  ...        0.00            4.0   \n",
       "\n",
       "   total_onnet_mou_6and7  total_offnet_mou_6and7  pct_onnet_usage  \\\n",
       "0                  66.64                 188.045            26.17   \n",
       "1                 102.79                 115.580            47.07   \n",
       "2                  66.78                 363.920            15.50   \n",
       "3                 154.30                 232.320            39.91   \n",
       "4                 199.75                 168.840            54.19   \n",
       "\n",
       "   total_data_rech_6  total_data_rech_7  amt_data_6  amt_data_7  \\\n",
       "0              252.0              252.0       614.0       504.0   \n",
       "1                0.0              154.0        74.0       538.0   \n",
       "2                0.0                0.0       168.0       315.0   \n",
       "3                0.0                0.0       230.0       310.0   \n",
       "4               56.0                0.0       252.0       350.0   \n",
       "\n",
       "   av_amt_data_6_7  \n",
       "0            559.0  \n",
       "1            306.0  \n",
       "2            241.5  \n",
       "3            270.0  \n",
       "4            301.0  \n",
       "\n",
       "[5 rows x 194 columns]"
      ]
     },
     "execution_count": 32,
     "metadata": {},
     "output_type": "execute_result"
    }
   ],
   "source": [
    "df.head()"
   ]
  },
  {
   "cell_type": "code",
   "execution_count": 33,
   "metadata": {},
   "outputs": [
    {
     "name": "stdout",
     "output_type": "stream",
     "text": [
      "478.0\n"
     ]
    }
   ],
   "source": [
    "# let's find the 70th percentile for the average amount of recharge done in months 6 & 7 (it is Rs. 478)\n",
    "print(df.av_amt_data_6_7.quantile(0.7))"
   ]
  },
  {
   "cell_type": "markdown",
   "metadata": {},
   "source": [
    "### 2. Define High value customers"
   ]
  },
  {
   "cell_type": "code",
   "execution_count": 34,
   "metadata": {},
   "outputs": [],
   "source": [
    "# based on the above information, we'll extract only the high value customers for further analysis\n",
    "\n",
    "df1 = df.loc[df.av_amt_data_6_7 >= df.av_amt_data_6_7.quantile(0.7), :]\n",
    "df1 = df1.reset_index(drop=True)"
   ]
  },
  {
   "cell_type": "code",
   "execution_count": 35,
   "metadata": {},
   "outputs": [
    {
     "data": {
      "text/plain": [
       "(30001, 194)"
      ]
     },
     "execution_count": 35,
     "metadata": {},
     "output_type": "execute_result"
    }
   ],
   "source": [
    "# let's see how much data was extracted\n",
    "df1.shape"
   ]
  },
  {
   "cell_type": "code",
   "execution_count": 36,
   "metadata": {},
   "outputs": [],
   "source": [
    "# deleting original columns\n",
    "df1 = df1.drop(['aon','onnet_mou_6', 'onnet_mou_7','offnet_mou_6','offnet_mou_7',\n",
    "                'total_data_rech_6', 'total_data_rech_7','amt_data_6', 'amt_data_7','av_amt_data_6_7'], axis=1)"
   ]
  },
  {
   "cell_type": "code",
   "execution_count": 37,
   "metadata": {},
   "outputs": [
    {
     "data": {
      "text/plain": [
       "(30001, 184)"
      ]
     },
     "execution_count": 37,
     "metadata": {},
     "output_type": "execute_result"
    }
   ],
   "source": [
    "df1.shape"
   ]
  },
  {
   "cell_type": "markdown",
   "metadata": {},
   "source": [
    "##### Note: \n",
    "- We've managed to extract roughly 30k records\n",
    "- We've also removed the original columns we used for deriving the new features (about 10 columns)"
   ]
  },
  {
   "cell_type": "markdown",
   "metadata": {},
   "source": [
    "### Deriving churn"
   ]
  },
  {
   "cell_type": "code",
   "execution_count": 38,
   "metadata": {},
   "outputs": [],
   "source": [
    "# first we need to calculate the incoming and outgoing usage/data consumption in 9th month\n",
    "df1['total_calls_mou_9'] = df1.total_ic_mou_9 + df1.total_og_mou_9\n",
    "\n",
    "df1['total_data_mb_9'] =  df1.vol_2g_mb_9 + df1.vol_3g_mb_9"
   ]
  },
  {
   "cell_type": "code",
   "execution_count": 39,
   "metadata": {},
   "outputs": [],
   "source": [
    "# let's assign 1 to 'churn' and '0' to not-churn\n",
    "\n",
    "df1['churn'] = df1.apply(lambda row: 1 if (row.total_calls_mou_9 == 0 and row.total_data_mb_9 == 0) else 0, axis=1)"
   ]
  },
  {
   "cell_type": "code",
   "execution_count": 40,
   "metadata": {
    "scrolled": true
   },
   "outputs": [
    {
     "data": {
      "text/plain": [
       "0    91.86\n",
       "1     8.14\n",
       "Name: churn, dtype: float64"
      ]
     },
     "execution_count": 40,
     "metadata": {},
     "output_type": "execute_result"
    }
   ],
   "source": [
    "# let's see what percentage of high-value customers have churned\n",
    "# looks like 8% of customers have churned, but about 92% people have not churned\n",
    "# in a way, this data is imbalanced due to presence of majority of good customers\n",
    "# so when we do cross validation later on, we could use Stratified K-Fold CV\n",
    "\n",
    "round(100*(df1.churn.value_counts()/df1.shape[0]),2)"
   ]
  },
  {
   "cell_type": "code",
   "execution_count": 41,
   "metadata": {},
   "outputs": [],
   "source": [
    "# We will create a copy to preserve df1\n",
    "df2 = df1.copy()"
   ]
  },
  {
   "cell_type": "code",
   "execution_count": 42,
   "metadata": {},
   "outputs": [
    {
     "data": {
      "text/plain": [
       "(30001, 140)"
      ]
     },
     "execution_count": 42,
     "metadata": {},
     "output_type": "execute_result"
    }
   ],
   "source": [
    "# We will delete all columns belonging to the 9th Month\n",
    "# only 140 columns remain from 185\n",
    "df2 = df2.filter(regex='[^9]$', axis=1)\n",
    "df2.shape"
   ]
  },
  {
   "cell_type": "code",
   "execution_count": 43,
   "metadata": {},
   "outputs": [
    {
     "data": {
      "text/html": [
       "<div>\n",
       "<style scoped>\n",
       "    .dataframe tbody tr th:only-of-type {\n",
       "        vertical-align: middle;\n",
       "    }\n",
       "\n",
       "    .dataframe tbody tr th {\n",
       "        vertical-align: top;\n",
       "    }\n",
       "\n",
       "    .dataframe thead th {\n",
       "        text-align: right;\n",
       "    }\n",
       "</style>\n",
       "<table border=\"1\" class=\"dataframe\">\n",
       "  <thead>\n",
       "    <tr style=\"text-align: right;\">\n",
       "      <th></th>\n",
       "      <th>arpu_6</th>\n",
       "      <th>arpu_7</th>\n",
       "      <th>arpu_8</th>\n",
       "      <th>onnet_mou_8</th>\n",
       "      <th>offnet_mou_8</th>\n",
       "      <th>roam_ic_mou_6</th>\n",
       "      <th>roam_ic_mou_7</th>\n",
       "      <th>roam_ic_mou_8</th>\n",
       "      <th>roam_og_mou_6</th>\n",
       "      <th>roam_og_mou_7</th>\n",
       "      <th>...</th>\n",
       "      <th>sachet_3g_8</th>\n",
       "      <th>aug_vbc_3g</th>\n",
       "      <th>jul_vbc_3g</th>\n",
       "      <th>jun_vbc_3g</th>\n",
       "      <th>sep_vbc_3g</th>\n",
       "      <th>yr_on_network</th>\n",
       "      <th>total_onnet_mou_6and7</th>\n",
       "      <th>total_offnet_mou_6and7</th>\n",
       "      <th>pct_onnet_usage</th>\n",
       "      <th>churn</th>\n",
       "    </tr>\n",
       "  </thead>\n",
       "  <tbody>\n",
       "    <tr>\n",
       "      <td>0</td>\n",
       "      <td>197.385</td>\n",
       "      <td>214.816</td>\n",
       "      <td>213.803</td>\n",
       "      <td>0.00</td>\n",
       "      <td>0.00</td>\n",
       "      <td>0.00</td>\n",
       "      <td>0.00</td>\n",
       "      <td>0.00</td>\n",
       "      <td>0.00</td>\n",
       "      <td>0.00</td>\n",
       "      <td>...</td>\n",
       "      <td>0</td>\n",
       "      <td>30.40</td>\n",
       "      <td>0.00</td>\n",
       "      <td>101.20</td>\n",
       "      <td>3.58</td>\n",
       "      <td>3.0</td>\n",
       "      <td>66.64</td>\n",
       "      <td>188.045</td>\n",
       "      <td>26.17</td>\n",
       "      <td>1</td>\n",
       "    </tr>\n",
       "    <tr>\n",
       "      <td>1</td>\n",
       "      <td>1069.180</td>\n",
       "      <td>1349.850</td>\n",
       "      <td>3171.480</td>\n",
       "      <td>52.29</td>\n",
       "      <td>325.91</td>\n",
       "      <td>16.23</td>\n",
       "      <td>33.49</td>\n",
       "      <td>31.64</td>\n",
       "      <td>23.74</td>\n",
       "      <td>12.59</td>\n",
       "      <td>...</td>\n",
       "      <td>0</td>\n",
       "      <td>57.74</td>\n",
       "      <td>19.38</td>\n",
       "      <td>18.74</td>\n",
       "      <td>0.00</td>\n",
       "      <td>2.0</td>\n",
       "      <td>112.52</td>\n",
       "      <td>1020.590</td>\n",
       "      <td>9.93</td>\n",
       "      <td>1</td>\n",
       "    </tr>\n",
       "    <tr>\n",
       "      <td>2</td>\n",
       "      <td>378.721</td>\n",
       "      <td>492.223</td>\n",
       "      <td>137.362</td>\n",
       "      <td>35.08</td>\n",
       "      <td>136.48</td>\n",
       "      <td>0.00</td>\n",
       "      <td>0.00</td>\n",
       "      <td>0.00</td>\n",
       "      <td>0.00</td>\n",
       "      <td>0.00</td>\n",
       "      <td>...</td>\n",
       "      <td>0</td>\n",
       "      <td>21.03</td>\n",
       "      <td>910.65</td>\n",
       "      <td>122.16</td>\n",
       "      <td>0.00</td>\n",
       "      <td>1.0</td>\n",
       "      <td>764.72</td>\n",
       "      <td>175.290</td>\n",
       "      <td>81.35</td>\n",
       "      <td>0</td>\n",
       "    </tr>\n",
       "    <tr>\n",
       "      <td>3</td>\n",
       "      <td>514.453</td>\n",
       "      <td>597.753</td>\n",
       "      <td>637.760</td>\n",
       "      <td>85.14</td>\n",
       "      <td>983.39</td>\n",
       "      <td>0.00</td>\n",
       "      <td>0.00</td>\n",
       "      <td>0.00</td>\n",
       "      <td>0.00</td>\n",
       "      <td>0.00</td>\n",
       "      <td>...</td>\n",
       "      <td>0</td>\n",
       "      <td>0.00</td>\n",
       "      <td>0.00</td>\n",
       "      <td>0.00</td>\n",
       "      <td>0.00</td>\n",
       "      <td>2.0</td>\n",
       "      <td>234.52</td>\n",
       "      <td>1654.610</td>\n",
       "      <td>12.41</td>\n",
       "      <td>0</td>\n",
       "    </tr>\n",
       "    <tr>\n",
       "      <td>4</td>\n",
       "      <td>74.350</td>\n",
       "      <td>193.897</td>\n",
       "      <td>366.966</td>\n",
       "      <td>33.58</td>\n",
       "      <td>205.89</td>\n",
       "      <td>0.00</td>\n",
       "      <td>0.00</td>\n",
       "      <td>0.00</td>\n",
       "      <td>0.00</td>\n",
       "      <td>0.00</td>\n",
       "      <td>...</td>\n",
       "      <td>1</td>\n",
       "      <td>40.45</td>\n",
       "      <td>51.86</td>\n",
       "      <td>0.00</td>\n",
       "      <td>0.00</td>\n",
       "      <td>2.0</td>\n",
       "      <td>99.62</td>\n",
       "      <td>174.770</td>\n",
       "      <td>36.31</td>\n",
       "      <td>0</td>\n",
       "    </tr>\n",
       "  </tbody>\n",
       "</table>\n",
       "<p>5 rows × 140 columns</p>\n",
       "</div>"
      ],
      "text/plain": [
       "     arpu_6    arpu_7    arpu_8  onnet_mou_8  offnet_mou_8  roam_ic_mou_6  \\\n",
       "0   197.385   214.816   213.803         0.00          0.00           0.00   \n",
       "1  1069.180  1349.850  3171.480        52.29        325.91          16.23   \n",
       "2   378.721   492.223   137.362        35.08        136.48           0.00   \n",
       "3   514.453   597.753   637.760        85.14        983.39           0.00   \n",
       "4    74.350   193.897   366.966        33.58        205.89           0.00   \n",
       "\n",
       "   roam_ic_mou_7  roam_ic_mou_8  roam_og_mou_6  roam_og_mou_7  ...  \\\n",
       "0           0.00           0.00           0.00           0.00  ...   \n",
       "1          33.49          31.64          23.74          12.59  ...   \n",
       "2           0.00           0.00           0.00           0.00  ...   \n",
       "3           0.00           0.00           0.00           0.00  ...   \n",
       "4           0.00           0.00           0.00           0.00  ...   \n",
       "\n",
       "   sachet_3g_8  aug_vbc_3g  jul_vbc_3g  jun_vbc_3g  sep_vbc_3g  yr_on_network  \\\n",
       "0            0       30.40        0.00      101.20        3.58            3.0   \n",
       "1            0       57.74       19.38       18.74        0.00            2.0   \n",
       "2            0       21.03      910.65      122.16        0.00            1.0   \n",
       "3            0        0.00        0.00        0.00        0.00            2.0   \n",
       "4            1       40.45       51.86        0.00        0.00            2.0   \n",
       "\n",
       "   total_onnet_mou_6and7  total_offnet_mou_6and7  pct_onnet_usage  churn  \n",
       "0                  66.64                 188.045            26.17      1  \n",
       "1                 112.52                1020.590             9.93      1  \n",
       "2                 764.72                 175.290            81.35      0  \n",
       "3                 234.52                1654.610            12.41      0  \n",
       "4                  99.62                 174.770            36.31      0  \n",
       "\n",
       "[5 rows x 140 columns]"
      ]
     },
     "execution_count": 43,
     "metadata": {},
     "output_type": "execute_result"
    }
   ],
   "source": [
    "df2.head()"
   ]
  },
  {
   "cell_type": "markdown",
   "metadata": {},
   "source": [
    "### 3. Let's begin Model building:"
   ]
  },
  {
   "cell_type": "code",
   "execution_count": 44,
   "metadata": {},
   "outputs": [],
   "source": [
    "# import required libraries\n",
    "from sklearn.model_selection import train_test_split\n",
    "from sklearn.pipeline import Pipeline\n",
    "from sklearn.decomposition import PCA\n",
    "from sklearn.preprocessing import StandardScaler\n",
    "from sklearn.pipeline import FeatureUnion\n",
    "from sklearn.base import BaseEstimator, TransformerMixin\n",
    "from sklearn.linear_model import LogisticRegression\n",
    "import sklearn.metrics as metrics\n",
    "from sklearn.metrics import classification_report\n",
    "from sklearn.metrics import roc_auc_score\n",
    "from imblearn.metrics import sensitivity_specificity_support\n",
    "from sklearn.model_selection import StratifiedKFold\n",
    "from sklearn.model_selection import cross_val_score\n",
    "from sklearn.metrics import confusion_matrix\n",
    "from sklearn.model_selection import GridSearchCV\n",
    "from sklearn.ensemble import RandomForestClassifier\n",
    "from sklearn.ensemble import GradientBoostingClassifier\n",
    "from sklearn.svm import SVC"
   ]
  },
  {
   "cell_type": "code",
   "execution_count": 45,
   "metadata": {},
   "outputs": [],
   "source": [
    "df2['churn'] = pd.to_numeric(df2['churn'])\n",
    "df2 = df2.drop('pct_onnet_usage',axis=1)"
   ]
  },
  {
   "cell_type": "markdown",
   "metadata": {},
   "source": [
    "#### Train and Test Split"
   ]
  },
  {
   "cell_type": "code",
   "execution_count": 46,
   "metadata": {},
   "outputs": [],
   "source": [
    "# Devide data into train and Test split\n",
    "\n",
    "y = df2.churn\n",
    "X = df2.drop('churn', axis = 1)\n",
    "X_train, X_test, y_train, y_test = train_test_split(X, y, test_size = 0.3, random_state = 4, stratify = y, )"
   ]
  },
  {
   "cell_type": "code",
   "execution_count": 47,
   "metadata": {},
   "outputs": [
    {
     "name": "stdout",
     "output_type": "stream",
     "text": [
      "(21000, 138)\n",
      "(21000,)\n",
      "(9001, 138)\n",
      "(9001,)\n"
     ]
    }
   ],
   "source": [
    "print(X_train.shape)\n",
    "print(y_train.shape)\n",
    "print(X_test.shape)\n",
    "print(y_test.shape)"
   ]
  },
  {
   "cell_type": "markdown",
   "metadata": {},
   "source": [
    "### Conduct PCA"
   ]
  },
  {
   "cell_type": "code",
   "execution_count": 48,
   "metadata": {},
   "outputs": [],
   "source": [
    "# initiate pca on train data\n",
    "pca = PCA(random_state=42)"
   ]
  },
  {
   "cell_type": "code",
   "execution_count": 49,
   "metadata": {},
   "outputs": [
    {
     "data": {
      "text/plain": [
       "PCA(copy=True, iterated_power='auto', n_components=None, random_state=42,\n",
       "    svd_solver='auto', tol=0.0, whiten=False)"
      ]
     },
     "execution_count": 49,
     "metadata": {},
     "output_type": "execute_result"
    }
   ],
   "source": [
    "pca.fit(X_train)"
   ]
  },
  {
   "cell_type": "code",
   "execution_count": 50,
   "metadata": {},
   "outputs": [
    {
     "data": {
      "text/plain": [
       "array([[ 1.23002375e-01,  1.42182690e-01,  1.36217058e-01, ...,\n",
       "        -5.49947834e-05,  2.86385022e-01,  3.39019887e-01],\n",
       "       [ 1.24809656e-01,  1.49549667e-01,  1.57193617e-01, ...,\n",
       "         3.23785576e-05,  1.33488952e-03,  7.33078723e-02],\n",
       "       [ 1.04193066e-01,  1.16597039e-01,  1.36995376e-01, ...,\n",
       "         4.36849798e-04, -4.17604377e-01,  3.34337621e-01],\n",
       "       ...,\n",
       "       [ 0.00000000e+00,  6.33689602e-18, -1.53672998e-17, ...,\n",
       "         2.23627227e-16,  9.11839573e-17,  7.21059859e-17],\n",
       "       [ 0.00000000e+00, -4.68109707e-18, -2.13338149e-18, ...,\n",
       "         7.50742215e-17,  3.62163569e-17,  2.89049285e-17],\n",
       "       [ 0.00000000e+00,  1.72607229e-16,  1.30994954e-16, ...,\n",
       "         3.08348247e-15,  4.30280038e-16, -2.19664724e-16]])"
      ]
     },
     "execution_count": 50,
     "metadata": {},
     "output_type": "execute_result"
    }
   ],
   "source": [
    "pca.components_"
   ]
  },
  {
   "cell_type": "code",
   "execution_count": 51,
   "metadata": {},
   "outputs": [
    {
     "data": {
      "text/plain": [
       "array([2.97112498e-01, 1.86328961e-01, 9.84479696e-02, 7.92372641e-02,\n",
       "       5.50326835e-02, 4.72261936e-02, 2.95998318e-02, 2.67553674e-02,\n",
       "       2.22051850e-02, 1.90403014e-02, 1.76371123e-02, 1.53944153e-02,\n",
       "       1.17872069e-02, 9.00947640e-03, 8.04058518e-03, 7.11032337e-03,\n",
       "       6.42526212e-03, 5.85722484e-03, 4.91655249e-03, 4.15125403e-03,\n",
       "       3.95997907e-03, 3.79945350e-03, 3.65845895e-03, 3.20370058e-03,\n",
       "       2.71056664e-03, 2.54409175e-03, 2.47158512e-03, 2.41879891e-03,\n",
       "       2.13890009e-03, 1.91783554e-03, 1.83802943e-03, 1.50002210e-03,\n",
       "       1.35285816e-03, 1.19308869e-03, 1.13143515e-03, 8.65654442e-04,\n",
       "       7.91162659e-04, 7.47125571e-04, 6.95441294e-04, 6.61072889e-04,\n",
       "       6.51293547e-04, 6.39285341e-04, 6.15417289e-04, 5.85398762e-04,\n",
       "       5.68168451e-04, 5.60584259e-04, 5.42080714e-04, 4.70324991e-04,\n",
       "       4.58082530e-04, 4.32904022e-04, 4.21014138e-04, 3.87635688e-04,\n",
       "       3.43172950e-04, 3.12005907e-04, 2.05036100e-04, 1.98647965e-04,\n",
       "       1.76734084e-04, 1.42575949e-04, 1.39235877e-04, 1.32662338e-04,\n",
       "       1.25341705e-04, 1.22927904e-04, 1.14965395e-04, 1.08564974e-04,\n",
       "       8.35083434e-05, 7.97299244e-05, 6.71845815e-05, 5.64176113e-05,\n",
       "       4.92699148e-05, 4.05042675e-05, 3.95266036e-05, 2.88518566e-05,\n",
       "       2.55044797e-05, 2.13698045e-05, 1.92808366e-05, 1.53144264e-05,\n",
       "       1.09697645e-05, 1.00551463e-05, 9.79529237e-06, 9.43358902e-06,\n",
       "       8.88892618e-06, 8.58895237e-06, 6.95669716e-06, 6.73558543e-06,\n",
       "       6.10993917e-06, 5.40768677e-06, 4.72748230e-06, 2.76252785e-06,\n",
       "       2.15618911e-06, 1.84059462e-06, 1.69687475e-06, 1.58880901e-06,\n",
       "       1.46675403e-06, 1.36762748e-06, 9.36737858e-07, 7.94642790e-07,\n",
       "       4.47864233e-07, 4.01101033e-07, 2.99591300e-07, 2.81447575e-07,\n",
       "       2.78346703e-07, 2.13075024e-07, 1.80971998e-07, 4.90568696e-08,\n",
       "       3.26878433e-08, 2.79569916e-08, 2.19331678e-08, 8.60318154e-09,\n",
       "       7.65668865e-09, 6.45315297e-09, 5.34571235e-09, 2.88193285e-09,\n",
       "       1.91682338e-09, 9.15584472e-10, 1.55167984e-12, 8.49548589e-13,\n",
       "       7.18313974e-13, 6.64692649e-13, 6.07503628e-13, 5.48540957e-13,\n",
       "       5.30733385e-13, 5.12717898e-13, 4.03943476e-13, 3.66168095e-13,\n",
       "       3.62524723e-13, 3.59633822e-13, 3.46430452e-13, 3.05714029e-13,\n",
       "       2.94489834e-13, 1.22125047e-33, 1.22125047e-33, 1.22125047e-33,\n",
       "       1.22125047e-33, 1.22125047e-33, 1.22125047e-33, 1.22125047e-33,\n",
       "       1.22125047e-33, 1.27939747e-34])"
      ]
     },
     "execution_count": 51,
     "metadata": {},
     "output_type": "execute_result"
    }
   ],
   "source": [
    "pca.explained_variance_ratio_"
   ]
  },
  {
   "cell_type": "code",
   "execution_count": 52,
   "metadata": {},
   "outputs": [],
   "source": [
    "var_cumu = np.cumsum(pca.explained_variance_ratio_)"
   ]
  },
  {
   "cell_type": "code",
   "execution_count": 53,
   "metadata": {},
   "outputs": [
    {
     "data": {
      "image/png": "[encoded data removed]",
      "text/plain": [
       "<Figure size 864x576 with 1 Axes>"
      ]
     },
     "metadata": {
      "needs_background": "light"
     },
     "output_type": "display_data"
    }
   ],
   "source": [
    "fig = plt.figure(figsize=[12,8])\n",
    "plt.vlines(x=12, ymax=1, ymin=0, colors=\"r\", linestyles=\"--\")\n",
    "plt.hlines(y=0.91, xmax=30, xmin=0, colors=\"g\", linestyles=\"--\")\n",
    "plt.plot(var_cumu)\n",
    "plt.ylabel(\"Cumulative variance explained\")\n",
    "plt.show()"
   ]
  },
  {
   "cell_type": "markdown",
   "metadata": {},
   "source": [
    "#### Performing PCA with 12 componants as it is explaining about 91% of variation in the data"
   ]
  },
  {
   "cell_type": "code",
   "execution_count": 54,
   "metadata": {},
   "outputs": [],
   "source": [
    "from sklearn.decomposition import IncrementalPCA"
   ]
  },
  {
   "cell_type": "code",
   "execution_count": 55,
   "metadata": {},
   "outputs": [
    {
     "data": {
      "text/plain": [
       "(21000, 12)"
      ]
     },
     "execution_count": 55,
     "metadata": {},
     "output_type": "execute_result"
    }
   ],
   "source": [
    "pca_final = IncrementalPCA(n_components=12)\n",
    "df_train_pca = pca_final.fit_transform(X_train)\n",
    "df_train_pca.shape"
   ]
  },
  {
   "cell_type": "code",
   "execution_count": 56,
   "metadata": {},
   "outputs": [
    {
     "data": {
      "text/plain": [
       "(12, 12)"
      ]
     },
     "execution_count": 56,
     "metadata": {},
     "output_type": "execute_result"
    }
   ],
   "source": [
    "corrmat = np.corrcoef(df_train_pca.transpose())\n",
    "corrmat.shape"
   ]
  },
  {
   "cell_type": "code",
   "execution_count": 57,
   "metadata": {},
   "outputs": [
    {
     "data": {
      "text/plain": [
       "<matplotlib.axes._subplots.AxesSubplot at 0x1f383335848>"
      ]
     },
     "execution_count": 57,
     "metadata": {},
     "output_type": "execute_result"
    },
    {
     "data": {
      "image/png": "[encoded data removed]",
      "text/plain": [
       "<Figure size 1080x1080 with 2 Axes>"
      ]
     },
     "metadata": {
      "needs_background": "light"
     },
     "output_type": "display_data"
    }
   ],
   "source": [
    "plt.figure(figsize=[15,15])\n",
    "sns.heatmap(corrmat, annot=True)"
   ]
  },
  {
   "cell_type": "code",
   "execution_count": 58,
   "metadata": {},
   "outputs": [
    {
     "data": {
      "text/plain": [
       "(9001, 12)"
      ]
     },
     "execution_count": 58,
     "metadata": {},
     "output_type": "execute_result"
    }
   ],
   "source": [
    "df_test_pca = pca_final.transform(X_test)\n",
    "df_test_pca.shape"
   ]
  },
  {
   "cell_type": "markdown",
   "metadata": {},
   "source": [
    "### Modelling : Part 1: Building a Logistic Regression model using the Principal components"
   ]
  },
  {
   "cell_type": "code",
   "execution_count": 59,
   "metadata": {},
   "outputs": [],
   "source": [
    "from sklearn.linear_model import LogisticRegression"
   ]
  },
  {
   "cell_type": "code",
   "execution_count": 60,
   "metadata": {},
   "outputs": [],
   "source": [
    "log_reg = LogisticRegression()\n",
    "model_pca = log_reg.fit(df_train_pca, y_train)"
   ]
  },
  {
   "cell_type": "markdown",
   "metadata": {},
   "source": [
    "###### Making predictions on test set"
   ]
  },
  {
   "cell_type": "code",
   "execution_count": 61,
   "metadata": {},
   "outputs": [],
   "source": [
    "pred_probs_test = model_pca.predict_proba(df_test_pca)"
   ]
  },
  {
   "cell_type": "code",
   "execution_count": 62,
   "metadata": {},
   "outputs": [
    {
     "data": {
      "text/plain": [
       "'0.85'"
      ]
     },
     "execution_count": 62,
     "metadata": {},
     "output_type": "execute_result"
    }
   ],
   "source": [
    "\"{:2.2}\".format(metrics.roc_auc_score(y_test, pred_probs_test[:,1]))"
   ]
  },
  {
   "cell_type": "markdown",
   "metadata": {},
   "source": [
    "### Observations:\n",
    "- As can be seen our model performs well on the test data with a score of 85%"
   ]
  },
  {
   "cell_type": "code",
   "execution_count": 63,
   "metadata": {},
   "outputs": [],
   "source": [
    "from sklearn import metrics\n",
    "from sklearn.pipeline import Pipeline\n",
    "#pca = Pipeline([('scaler', StandardScaler()), ('pca', PCA())])"
   ]
  },
  {
   "cell_type": "code",
   "execution_count": 64,
   "metadata": {},
   "outputs": [],
   "source": [
    "# create pipeline of steps in sequence to save us time running each step seperately\n",
    "PCA_VARS = 12\n",
    "steps = [('scaler', StandardScaler()),\n",
    "         (\"pca\", PCA(n_components=PCA_VARS)),\n",
    "         (\"logistic\", LogisticRegression(class_weight='balanced'))\n",
    "        ]\n",
    "pipeline = Pipeline(steps)"
   ]
  },
  {
   "cell_type": "code",
   "execution_count": 65,
   "metadata": {},
   "outputs": [
    {
     "data": {
      "text/plain": [
       "0.6925714285714286"
      ]
     },
     "execution_count": 65,
     "metadata": {},
     "output_type": "execute_result"
    }
   ],
   "source": [
    "# fit model\n",
    "pipeline.fit(X_train, y_train)\n",
    "\n",
    "# check score on train data\n",
    "pipeline.score(X_train, y_train)"
   ]
  },
  {
   "cell_type": "code",
   "execution_count": 66,
   "metadata": {},
   "outputs": [
    {
     "name": "stdout",
     "output_type": "stream",
     "text": [
      "[[5643 2626]\n",
      " [ 167  565]]\n",
      "Sensitivity: \t0.77\n",
      "Specificity: \t0.68\n",
      "precision: \t 0.18\n",
      "AUC:    \t 0.81\n"
     ]
    }
   ],
   "source": [
    "# predict churn on test data\n",
    "y_pred = pipeline.predict(X_test)\n",
    "\n",
    "# create onfusion matrix\n",
    "cm = confusion_matrix(y_test, y_pred)\n",
    "print(cm)\n",
    "\n",
    "# check sensitivity and specificity\n",
    "sensitivity, specificity, _ = sensitivity_specificity_support(y_test, y_pred, average='binary')\n",
    "print(\"Sensitivity: \\t\", round(sensitivity, 2), \"\\n\", \"Specificity: \\t\", round(specificity, 2), sep='')\n",
    "\n",
    "# check Precision\n",
    "precision = cm[1,1]/(cm[1,1]+cm[0,1])\n",
    "print(\"precision: \\t\", round(precision, 2))\n",
    "\n",
    "# check area under curve\n",
    "y_pred_prob = pipeline.predict_proba(X_test)[:, 1]\n",
    "print(\"AUC:    \\t\", round(roc_auc_score(y_test, y_pred_prob),2))"
   ]
  },
  {
   "cell_type": "markdown",
   "metadata": {},
   "source": [
    "### Modelling : Part 2: Build a Random Forest model using the PCA components"
   ]
  },
  {
   "cell_type": "markdown",
   "metadata": {},
   "source": [
    "#### Now we build a random forest model and see which one is better"
   ]
  },
  {
   "cell_type": "code",
   "execution_count": 67,
   "metadata": {},
   "outputs": [],
   "source": [
    "# random forest - the class weight is used to handle class imbalance - it adjusts the cost function\n",
    "forest = RandomForestClassifier(class_weight={0:0.1, 1: 0.9}, n_jobs = -1)\n",
    "\n",
    "# hyperparameter space\n",
    "params = {\"criterion\": ['gini', 'entropy'], \"max_features\": ['auto', 0.4]}\n",
    "\n",
    "# create 5 folds\n",
    "folds = StratifiedKFold(n_splits = 5, shuffle = True, random_state = 4)\n",
    "\n",
    "# create gridsearch object\n",
    "model = GridSearchCV(estimator=forest, cv=folds, param_grid=params, scoring='roc_auc', n_jobs=-1, verbose=1)"
   ]
  },
  {
   "cell_type": "code",
   "execution_count": 68,
   "metadata": {},
   "outputs": [
    {
     "name": "stdout",
     "output_type": "stream",
     "text": [
      "Fitting 5 folds for each of 4 candidates, totalling 20 fits\n"
     ]
    },
    {
     "name": "stderr",
     "output_type": "stream",
     "text": [
      "[Parallel(n_jobs=-1)]: Using backend LokyBackend with 8 concurrent workers.\n",
      "[Parallel(n_jobs=-1)]: Done  20 out of  20 | elapsed:   14.1s finished\n"
     ]
    },
    {
     "data": {
      "text/plain": [
       "GridSearchCV(cv=StratifiedKFold(n_splits=5, random_state=4, shuffle=True),\n",
       "             error_score='raise-deprecating',\n",
       "             estimator=RandomForestClassifier(bootstrap=True,\n",
       "                                              class_weight={0: 0.1, 1: 0.9},\n",
       "                                              criterion='gini', max_depth=None,\n",
       "                                              max_features='auto',\n",
       "                                              max_leaf_nodes=None,\n",
       "                                              min_impurity_decrease=0.0,\n",
       "                                              min_impurity_split=None,\n",
       "                                              min_samples_leaf=1,\n",
       "                                              min_samples_split=2,\n",
       "                                              min_weight_fraction_leaf=0.0,\n",
       "                                              n_estimators='warn', n_jobs=-1,\n",
       "                                              oob_score=False,\n",
       "                                              random_state=None, verbose=0,\n",
       "                                              warm_start=False),\n",
       "             iid='warn', n_jobs=-1,\n",
       "             param_grid={'criterion': ['gini', 'entropy'],\n",
       "                         'max_features': ['auto', 0.4]},\n",
       "             pre_dispatch='2*n_jobs', refit=True, return_train_score=False,\n",
       "             scoring='roc_auc', verbose=1)"
      ]
     },
     "execution_count": 68,
     "metadata": {},
     "output_type": "execute_result"
    }
   ],
   "source": [
    "# fit model\n",
    "model.fit(X_train, y_train)"
   ]
  },
  {
   "cell_type": "code",
   "execution_count": 69,
   "metadata": {},
   "outputs": [
    {
     "name": "stdout",
     "output_type": "stream",
     "text": [
      "Best AUC:  0.8797499293140029\n",
      "Best hyperparameters:  {'criterion': 'entropy', 'max_features': 0.4}\n"
     ]
    }
   ],
   "source": [
    "# print best hyperparameters\n",
    "print(\"Best AUC: \", model.best_score_)\n",
    "print(\"Best hyperparameters: \", model.best_params_)"
   ]
  },
  {
   "cell_type": "code",
   "execution_count": 70,
   "metadata": {},
   "outputs": [
    {
     "name": "stdout",
     "output_type": "stream",
     "text": [
      "[[8138  131]\n",
      " [ 410  322]]\n",
      "Sensitivity: \t0.44\n",
      "Specificity: \t0.98\n",
      "precision: \t 0.71\n",
      "AUC:    \t 0.89\n"
     ]
    }
   ],
   "source": [
    "# predict churn on test data\n",
    "y_pred = model.predict(X_test)\n",
    "\n",
    "# create onfusion matrix\n",
    "cm = confusion_matrix(y_test, y_pred)\n",
    "print(cm)\n",
    "\n",
    "# check sensitivity and specificity\n",
    "sensitivity, specificity, _ = sensitivity_specificity_support(y_test, y_pred, average='binary')\n",
    "print(\"Sensitivity: \\t\", round(sensitivity, 2), \"\\n\", \"Specificity: \\t\", round(specificity, 2), sep='')\n",
    "\n",
    "# check Precision\n",
    "precision = cm[1,1]/(cm[1,1]+cm[0,1])\n",
    "print(\"precision: \\t\", round(precision, 2))\n",
    "\n",
    "# check area under curve\n",
    "y_pred_prob = model.predict_proba(X_test)[:, 1]\n",
    "print(\"AUC:    \\t\", round(roc_auc_score(y_test, y_pred_prob),2))"
   ]
  },
  {
   "cell_type": "markdown",
   "metadata": {},
   "source": [
    "### Observation:\n",
    "- Looks like we have a better ROC-AUC score of 88% with the Random Forest model compared to the AUC score of 81% with Logistic Regression"
   ]
  },
  {
   "cell_type": "markdown",
   "metadata": {},
   "source": [
    "### 4. Finding best features: We'll build a Random Forest model and then tweak the hyperparameters\n",
    "- We saw from before that the Random Forest performs better than the Logistic Regression model\n",
    "- Also, as we did a PCA, we were unable to identify which attributes in the data can help us identify churners\n",
    "- So we'll try to find those people now"
   ]
  },
  {
   "cell_type": "code",
   "execution_count": 72,
   "metadata": {},
   "outputs": [
    {
     "data": {
      "text/html": [
       "<div>\n",
       "<style scoped>\n",
       "    .dataframe tbody tr th:only-of-type {\n",
       "        vertical-align: middle;\n",
       "    }\n",
       "\n",
       "    .dataframe tbody tr th {\n",
       "        vertical-align: top;\n",
       "    }\n",
       "\n",
       "    .dataframe thead th {\n",
       "        text-align: right;\n",
       "    }\n",
       "</style>\n",
       "<table border=\"1\" class=\"dataframe\">\n",
       "  <thead>\n",
       "    <tr style=\"text-align: right;\">\n",
       "      <th></th>\n",
       "      <th>arpu_6</th>\n",
       "      <th>arpu_7</th>\n",
       "      <th>arpu_8</th>\n",
       "      <th>onnet_mou_8</th>\n",
       "      <th>offnet_mou_8</th>\n",
       "      <th>roam_ic_mou_6</th>\n",
       "      <th>roam_ic_mou_7</th>\n",
       "      <th>roam_ic_mou_8</th>\n",
       "      <th>roam_og_mou_6</th>\n",
       "      <th>roam_og_mou_7</th>\n",
       "      <th>...</th>\n",
       "      <th>sachet_3g_7</th>\n",
       "      <th>sachet_3g_8</th>\n",
       "      <th>aug_vbc_3g</th>\n",
       "      <th>jul_vbc_3g</th>\n",
       "      <th>jun_vbc_3g</th>\n",
       "      <th>sep_vbc_3g</th>\n",
       "      <th>yr_on_network</th>\n",
       "      <th>total_onnet_mou_6and7</th>\n",
       "      <th>total_offnet_mou_6and7</th>\n",
       "      <th>churn</th>\n",
       "    </tr>\n",
       "  </thead>\n",
       "  <tbody>\n",
       "    <tr>\n",
       "      <td>0</td>\n",
       "      <td>197.385</td>\n",
       "      <td>214.816</td>\n",
       "      <td>213.803</td>\n",
       "      <td>0.00</td>\n",
       "      <td>0.00</td>\n",
       "      <td>0.00</td>\n",
       "      <td>0.00</td>\n",
       "      <td>0.00</td>\n",
       "      <td>0.00</td>\n",
       "      <td>0.00</td>\n",
       "      <td>...</td>\n",
       "      <td>0</td>\n",
       "      <td>0</td>\n",
       "      <td>30.40</td>\n",
       "      <td>0.00</td>\n",
       "      <td>101.20</td>\n",
       "      <td>3.58</td>\n",
       "      <td>3.0</td>\n",
       "      <td>66.64</td>\n",
       "      <td>188.045</td>\n",
       "      <td>1</td>\n",
       "    </tr>\n",
       "    <tr>\n",
       "      <td>1</td>\n",
       "      <td>1069.180</td>\n",
       "      <td>1349.850</td>\n",
       "      <td>3171.480</td>\n",
       "      <td>52.29</td>\n",
       "      <td>325.91</td>\n",
       "      <td>16.23</td>\n",
       "      <td>33.49</td>\n",
       "      <td>31.64</td>\n",
       "      <td>23.74</td>\n",
       "      <td>12.59</td>\n",
       "      <td>...</td>\n",
       "      <td>0</td>\n",
       "      <td>0</td>\n",
       "      <td>57.74</td>\n",
       "      <td>19.38</td>\n",
       "      <td>18.74</td>\n",
       "      <td>0.00</td>\n",
       "      <td>2.0</td>\n",
       "      <td>112.52</td>\n",
       "      <td>1020.590</td>\n",
       "      <td>1</td>\n",
       "    </tr>\n",
       "    <tr>\n",
       "      <td>2</td>\n",
       "      <td>378.721</td>\n",
       "      <td>492.223</td>\n",
       "      <td>137.362</td>\n",
       "      <td>35.08</td>\n",
       "      <td>136.48</td>\n",
       "      <td>0.00</td>\n",
       "      <td>0.00</td>\n",
       "      <td>0.00</td>\n",
       "      <td>0.00</td>\n",
       "      <td>0.00</td>\n",
       "      <td>...</td>\n",
       "      <td>0</td>\n",
       "      <td>0</td>\n",
       "      <td>21.03</td>\n",
       "      <td>910.65</td>\n",
       "      <td>122.16</td>\n",
       "      <td>0.00</td>\n",
       "      <td>1.0</td>\n",
       "      <td>764.72</td>\n",
       "      <td>175.290</td>\n",
       "      <td>0</td>\n",
       "    </tr>\n",
       "    <tr>\n",
       "      <td>3</td>\n",
       "      <td>514.453</td>\n",
       "      <td>597.753</td>\n",
       "      <td>637.760</td>\n",
       "      <td>85.14</td>\n",
       "      <td>983.39</td>\n",
       "      <td>0.00</td>\n",
       "      <td>0.00</td>\n",
       "      <td>0.00</td>\n",
       "      <td>0.00</td>\n",
       "      <td>0.00</td>\n",
       "      <td>...</td>\n",
       "      <td>0</td>\n",
       "      <td>0</td>\n",
       "      <td>0.00</td>\n",
       "      <td>0.00</td>\n",
       "      <td>0.00</td>\n",
       "      <td>0.00</td>\n",
       "      <td>2.0</td>\n",
       "      <td>234.52</td>\n",
       "      <td>1654.610</td>\n",
       "      <td>0</td>\n",
       "    </tr>\n",
       "    <tr>\n",
       "      <td>4</td>\n",
       "      <td>74.350</td>\n",
       "      <td>193.897</td>\n",
       "      <td>366.966</td>\n",
       "      <td>33.58</td>\n",
       "      <td>205.89</td>\n",
       "      <td>0.00</td>\n",
       "      <td>0.00</td>\n",
       "      <td>0.00</td>\n",
       "      <td>0.00</td>\n",
       "      <td>0.00</td>\n",
       "      <td>...</td>\n",
       "      <td>0</td>\n",
       "      <td>1</td>\n",
       "      <td>40.45</td>\n",
       "      <td>51.86</td>\n",
       "      <td>0.00</td>\n",
       "      <td>0.00</td>\n",
       "      <td>2.0</td>\n",
       "      <td>99.62</td>\n",
       "      <td>174.770</td>\n",
       "      <td>0</td>\n",
       "    </tr>\n",
       "  </tbody>\n",
       "</table>\n",
       "<p>5 rows × 139 columns</p>\n",
       "</div>"
      ],
      "text/plain": [
       "     arpu_6    arpu_7    arpu_8  onnet_mou_8  offnet_mou_8  roam_ic_mou_6  \\\n",
       "0   197.385   214.816   213.803         0.00          0.00           0.00   \n",
       "1  1069.180  1349.850  3171.480        52.29        325.91          16.23   \n",
       "2   378.721   492.223   137.362        35.08        136.48           0.00   \n",
       "3   514.453   597.753   637.760        85.14        983.39           0.00   \n",
       "4    74.350   193.897   366.966        33.58        205.89           0.00   \n",
       "\n",
       "   roam_ic_mou_7  roam_ic_mou_8  roam_og_mou_6  roam_og_mou_7  ...  \\\n",
       "0           0.00           0.00           0.00           0.00  ...   \n",
       "1          33.49          31.64          23.74          12.59  ...   \n",
       "2           0.00           0.00           0.00           0.00  ...   \n",
       "3           0.00           0.00           0.00           0.00  ...   \n",
       "4           0.00           0.00           0.00           0.00  ...   \n",
       "\n",
       "   sachet_3g_7  sachet_3g_8  aug_vbc_3g  jul_vbc_3g  jun_vbc_3g  sep_vbc_3g  \\\n",
       "0            0            0       30.40        0.00      101.20        3.58   \n",
       "1            0            0       57.74       19.38       18.74        0.00   \n",
       "2            0            0       21.03      910.65      122.16        0.00   \n",
       "3            0            0        0.00        0.00        0.00        0.00   \n",
       "4            0            1       40.45       51.86        0.00        0.00   \n",
       "\n",
       "   yr_on_network  total_onnet_mou_6and7  total_offnet_mou_6and7  churn  \n",
       "0            3.0                  66.64                 188.045      1  \n",
       "1            2.0                 112.52                1020.590      1  \n",
       "2            1.0                 764.72                 175.290      0  \n",
       "3            2.0                 234.52                1654.610      0  \n",
       "4            2.0                  99.62                 174.770      0  \n",
       "\n",
       "[5 rows x 139 columns]"
      ]
     },
     "execution_count": 72,
     "metadata": {},
     "output_type": "execute_result"
    }
   ],
   "source": [
    "df2.head()"
   ]
  },
  {
   "cell_type": "code",
   "execution_count": 73,
   "metadata": {},
   "outputs": [],
   "source": [
    "y = df2.churn\n",
    "X = df2.drop('churn', axis = 1)\n",
    "X_train, X_test, y_train, y_test = train_test_split(X, y, test_size = 0.3, random_state = 4, stratify = y)"
   ]
  },
  {
   "cell_type": "code",
   "execution_count": 74,
   "metadata": {},
   "outputs": [],
   "source": [
    "from sklearn.preprocessing import StandardScaler"
   ]
  },
  {
   "cell_type": "code",
   "execution_count": 75,
   "metadata": {},
   "outputs": [],
   "source": [
    "feat_labels = X_train.columns\n",
    "scaler = StandardScaler()\n",
    "\n",
    "X_train = scaler.fit_transform(X_train)"
   ]
  },
  {
   "cell_type": "code",
   "execution_count": 76,
   "metadata": {},
   "outputs": [],
   "source": [
    "# Create the parameter grid based on the results of random search \n",
    "param_grid = {\n",
    "    'max_depth': [4,8,10],\n",
    "    'min_samples_leaf': range(100, 400, 200),\n",
    "    'min_samples_split': range(200, 500, 200),\n",
    "    'n_estimators': [100,200, 300], \n",
    "    'max_features': [5, 10]\n",
    "}\n",
    "# Create a basic model\n",
    "rf = RandomForestClassifier()\n",
    "# Instantiate the grid search model\n",
    "grid_search = GridSearchCV(estimator = rf, param_grid = param_grid, \n",
    "                          cv = 3, n_jobs = -1,verbose = 1)"
   ]
  },
  {
   "cell_type": "code",
   "execution_count": 77,
   "metadata": {},
   "outputs": [
    {
     "name": "stdout",
     "output_type": "stream",
     "text": [
      "Fitting 3 folds for each of 72 candidates, totalling 216 fits\n"
     ]
    },
    {
     "name": "stderr",
     "output_type": "stream",
     "text": [
      "[Parallel(n_jobs=-1)]: Using backend LokyBackend with 8 concurrent workers.\n",
      "[Parallel(n_jobs=-1)]: Done  34 tasks      | elapsed:   19.8s\n",
      "[Parallel(n_jobs=-1)]: Done 184 tasks      | elapsed:  3.6min\n",
      "[Parallel(n_jobs=-1)]: Done 216 out of 216 | elapsed:  4.6min finished\n"
     ]
    },
    {
     "data": {
      "text/plain": [
       "GridSearchCV(cv=3, error_score='raise-deprecating',\n",
       "             estimator=RandomForestClassifier(bootstrap=True, class_weight=None,\n",
       "                                              criterion='gini', max_depth=None,\n",
       "                                              max_features='auto',\n",
       "                                              max_leaf_nodes=None,\n",
       "                                              min_impurity_decrease=0.0,\n",
       "                                              min_impurity_split=None,\n",
       "                                              min_samples_leaf=1,\n",
       "                                              min_samples_split=2,\n",
       "                                              min_weight_fraction_leaf=0.0,\n",
       "                                              n_estimators='warn', n_jobs=None,\n",
       "                                              oob_score=False,\n",
       "                                              random_state=None, verbose=0,\n",
       "                                              warm_start=False),\n",
       "             iid='warn', n_jobs=-1,\n",
       "             param_grid={'max_depth': [4, 8, 10], 'max_features': [5, 10],\n",
       "                         'min_samples_leaf': range(100, 400, 200),\n",
       "                         'min_samples_split': range(200, 500, 200),\n",
       "                         'n_estimators': [100, 200, 300]},\n",
       "             pre_dispatch='2*n_jobs', refit=True, return_train_score=False,\n",
       "             scoring=None, verbose=1)"
      ]
     },
     "execution_count": 77,
     "metadata": {},
     "output_type": "execute_result"
    }
   ],
   "source": [
    "# Fit the grid search to the data\n",
    "grid_search.fit(X_train, y_train)"
   ]
  },
  {
   "cell_type": "code",
   "execution_count": 78,
   "metadata": {},
   "outputs": [
    {
     "name": "stdout",
     "output_type": "stream",
     "text": [
      "We can get accuracy of 0.9415714285714286 using {'max_depth': 10, 'max_features': 10, 'min_samples_leaf': 100, 'min_samples_split': 200, 'n_estimators': 200}\n"
     ]
    }
   ],
   "source": [
    "# printing the optimal accuracy score and hyperparameters\n",
    "print('We can get accuracy of',grid_search.best_score_,'using',grid_search.best_params_)"
   ]
  },
  {
   "cell_type": "code",
   "execution_count": 79,
   "metadata": {},
   "outputs": [],
   "source": [
    "# model with the best hyperparameters\n",
    "from sklearn.ensemble import RandomForestClassifier\n",
    "rfc = RandomForestClassifier(bootstrap=True,\n",
    "                             max_depth=10,\n",
    "                             min_samples_leaf=100, \n",
    "                             min_samples_split=200,\n",
    "                             max_features=10,\n",
    "                             n_estimators=100)"
   ]
  },
  {
   "cell_type": "code",
   "execution_count": 80,
   "metadata": {},
   "outputs": [
    {
     "data": {
      "text/plain": [
       "RandomForestClassifier(bootstrap=True, class_weight=None, criterion='gini',\n",
       "                       max_depth=10, max_features=10, max_leaf_nodes=None,\n",
       "                       min_impurity_decrease=0.0, min_impurity_split=None,\n",
       "                       min_samples_leaf=100, min_samples_split=200,\n",
       "                       min_weight_fraction_leaf=0.0, n_estimators=100,\n",
       "                       n_jobs=None, oob_score=False, random_state=None,\n",
       "                       verbose=0, warm_start=False)"
      ]
     },
     "execution_count": 80,
     "metadata": {},
     "output_type": "execute_result"
    }
   ],
   "source": [
    "# fit\n",
    "rfc.fit(X_train,y_train)"
   ]
  },
  {
   "cell_type": "code",
   "execution_count": 81,
   "metadata": {},
   "outputs": [],
   "source": [
    "# predict\n",
    "predictions = rfc.predict(X_test)"
   ]
  },
  {
   "cell_type": "code",
   "execution_count": 82,
   "metadata": {},
   "outputs": [],
   "source": [
    "# evaluation metrics\n",
    "from sklearn.metrics import classification_report,confusion_matrix"
   ]
  },
  {
   "cell_type": "code",
   "execution_count": 83,
   "metadata": {},
   "outputs": [
    {
     "name": "stdout",
     "output_type": "stream",
     "text": [
      "              precision    recall  f1-score   support\n",
      "\n",
      "           0       0.92      1.00      0.96      8269\n",
      "           1       0.00      0.00      0.00       732\n",
      "\n",
      "    accuracy                           0.92      9001\n",
      "   macro avg       0.46      0.50      0.48      9001\n",
      "weighted avg       0.84      0.92      0.88      9001\n",
      "\n"
     ]
    }
   ],
   "source": [
    "print(classification_report(y_test,predictions))"
   ]
  },
  {
   "cell_type": "markdown",
   "metadata": {},
   "source": [
    "#### Note:\n",
    "- As you can see, we get a high test accuracy score of 92% using only 10 features. This is quite good and hence we can conclude that using Random Forest we can predict the churn-related features"
   ]
  },
  {
   "cell_type": "code",
   "execution_count": 86,
   "metadata": {},
   "outputs": [
    {
     "name": "stdout",
     "output_type": "stream",
     "text": [
      "('arpu_6', 0.002241364326236327)\n",
      "('arpu_7', 0.004833299127109693)\n",
      "('arpu_8', 0.07157193814749194)\n",
      "('onnet_mou_8', 0.011825712197681967)\n",
      "('offnet_mou_8', 0.01600417754783275)\n",
      "('roam_ic_mou_6', 0.00026486229847713254)\n",
      "('roam_ic_mou_7', 0.003960034834211383)\n",
      "('roam_ic_mou_8', 0.012940074162652498)\n",
      "('roam_og_mou_6', 0.00015775344321480482)\n",
      "('roam_og_mou_7', 0.0022610088359002684)\n",
      "('roam_og_mou_8', 0.018735571556179664)\n",
      "('loc_og_t2t_mou_6', 0.0006687702574450838)\n",
      "('loc_og_t2t_mou_7', 0.0008871183501361991)\n",
      "('loc_og_t2t_mou_8', 0.02118648617525924)\n",
      "('loc_og_t2m_mou_6', 0.0006800369411091447)\n",
      "('loc_og_t2m_mou_7', 0.0012131902378895378)\n",
      "('loc_og_t2m_mou_8', 0.03342834497601742)\n",
      "('loc_og_t2f_mou_6', 0.00040648374597673635)\n",
      "('loc_og_t2f_mou_7', 0.0005666066755787195)\n",
      "('loc_og_t2f_mou_8', 0.0060029316210480745)\n",
      "('loc_og_t2c_mou_6', 0.00010977697323101288)\n",
      "('loc_og_t2c_mou_7', 0.00011212340317458883)\n",
      "('loc_og_t2c_mou_8', 1.8998466876313733e-05)\n",
      "('loc_og_mou_6', 0.0008113868155526956)\n",
      "('loc_og_mou_7', 0.0029686156960689173)\n",
      "('loc_og_mou_8', 0.023064221692712175)\n",
      "('std_og_t2t_mou_6', 0.0015483200601802227)\n",
      "('std_og_t2t_mou_7', 0.000940537518010811)\n",
      "('std_og_t2t_mou_8', 0.003596661118026394)\n",
      "('std_og_t2m_mou_6', 0.0018859117496055771)\n",
      "('std_og_t2m_mou_7', 0.0012037470373334257)\n",
      "('std_og_t2m_mou_8', 0.005497581997369133)\n",
      "('std_og_t2f_mou_6', 1.6358183128094145e-05)\n",
      "('std_og_t2f_mou_7', 2.6190048152921105e-05)\n",
      "('std_og_t2f_mou_8', 7.593252820729744e-06)\n",
      "('std_og_t2c_mou_6', 0.0)\n",
      "('std_og_t2c_mou_7', 0.0)\n",
      "('std_og_t2c_mou_8', 0.0)\n",
      "('std_og_mou_6', 0.0027757739730851264)\n",
      "('std_og_mou_7', 0.003047990965024028)\n",
      "('std_og_mou_8', 0.013343971269275407)\n",
      "('isd_og_mou_6', 2.509106271762764e-05)\n",
      "('isd_og_mou_7', 6.535794808380728e-05)\n",
      "('isd_og_mou_8', 3.121617739431437e-05)\n",
      "('spl_og_mou_6', 0.00034300983031206305)\n",
      "('spl_og_mou_7', 0.0003714370606320711)\n",
      "('spl_og_mou_8', 0.0028164179136651434)\n",
      "('og_others_6', 2.9253623406956377e-05)\n",
      "('og_others_7', 0.0)\n",
      "('og_others_8', 0.0)\n",
      "('total_og_mou_6', 0.0033641325931119586)\n",
      "('total_og_mou_7', 0.005363537009318339)\n",
      "('total_og_mou_8', 0.08364140696015787)\n",
      "('loc_ic_t2t_mou_6', 0.0010771322183548906)\n",
      "('loc_ic_t2t_mou_7', 0.00130844884911073)\n",
      "('loc_ic_t2t_mou_8', 0.018290169665387126)\n",
      "('loc_ic_t2m_mou_6', 0.0015127339455634893)\n",
      "('loc_ic_t2m_mou_7', 0.001465110834818445)\n",
      "('loc_ic_t2m_mou_8', 0.03544993786382563)\n",
      "('loc_ic_t2f_mou_6', 0.000875821493865129)\n",
      "('loc_ic_t2f_mou_7', 0.0006802286364791235)\n",
      "('loc_ic_t2f_mou_8', 0.025495916542001545)\n",
      "('loc_ic_mou_6', 0.0005567813283033128)\n",
      "('loc_ic_mou_7', 0.003363787170379827)\n",
      "('loc_ic_mou_8', 0.04071463951677162)\n",
      "('std_ic_t2t_mou_6', 0.00044887108855603777)\n",
      "('std_ic_t2t_mou_7', 0.00038885230023716854)\n",
      "('std_ic_t2t_mou_8', 0.009680756831237168)\n",
      "('std_ic_t2m_mou_6', 0.0013405130108570906)\n",
      "('std_ic_t2m_mou_7', 0.0006506047523080366)\n",
      "('std_ic_t2m_mou_8', 0.008007254793803846)\n",
      "('std_ic_t2f_mou_6', 3.3850453391429946e-05)\n",
      "('std_ic_t2f_mou_7', 7.176686041532794e-05)\n",
      "('std_ic_t2f_mou_8', 0.0012108490058029473)\n",
      "('std_ic_t2o_mou_6', 0.0)\n",
      "('std_ic_t2o_mou_7', 0.0)\n",
      "('std_ic_t2o_mou_8', 0.0)\n",
      "('std_ic_mou_6', 0.0017589162660784216)\n",
      "('std_ic_mou_7', 0.0005786191099860933)\n",
      "('std_ic_mou_8', 0.007391593978136167)\n",
      "('total_ic_mou_6', 0.0031775398059072564)\n",
      "('total_ic_mou_7', 0.007203643558478095)\n",
      "('total_ic_mou_8', 0.11874986474952635)\n",
      "('spl_ic_mou_6', 4.336131904865109e-05)\n",
      "('spl_ic_mou_7', 7.154887780338124e-06)\n",
      "('spl_ic_mou_8', 0.0)\n",
      "('isd_ic_mou_6', 6.716671017078253e-05)\n",
      "('isd_ic_mou_7', 9.13417458213608e-05)\n",
      "('isd_ic_mou_8', 3.10453995004457e-05)\n",
      "('ic_others_6', 6.864283162898327e-05)\n",
      "('ic_others_7', 2.4716133198496163e-05)\n",
      "('ic_others_8', 0.00012005306681559647)\n",
      "('total_rech_num_6', 0.002665857590201298)\n",
      "('total_rech_num_7', 0.0029187334425375103)\n",
      "('total_rech_num_8', 0.015627520693618925)\n",
      "('total_rech_amt_6', 0.0036286914326674005)\n",
      "('total_rech_amt_7', 0.0036051340108890447)\n",
      "('total_rech_amt_8', 0.08882022779659945)\n",
      "('max_rech_amt_6', 0.0005551847172255178)\n",
      "('max_rech_amt_7', 0.0027142694310960678)\n",
      "('max_rech_amt_8', 0.046728739861820044)\n",
      "('last_day_rch_amt_6', 0.00042881329827019126)\n",
      "('last_day_rch_amt_7', 0.0017617584435825474)\n",
      "('last_day_rch_amt_8', 0.05020946071507191)\n",
      "('total_rech_data_6', 0.0009767213598759542)\n",
      "('total_rech_data_7', 0.004376656097964978)\n",
      "('total_rech_data_8', 0.02479699867133228)\n",
      "('max_rech_data_6', 0.0024303034299110507)\n",
      "('max_rech_data_7', 0.003297630214657608)\n",
      "('max_rech_data_8', 0.018114301970777395)\n",
      "('av_rech_amt_data_6', 0.0025834420507230803)\n",
      "('av_rech_amt_data_7', 0.002890114759569229)\n",
      "('av_rech_amt_data_8', 0.017562894029747665)\n",
      "('vol_2g_mb_6', 0.0009826934717476817)\n",
      "('vol_2g_mb_7', 0.0012749039169688138)\n",
      "('vol_2g_mb_8', 0.0162020714882065)\n",
      "('vol_3g_mb_6', 0.0005877418319720314)\n",
      "('vol_3g_mb_7', 0.0025989514692029924)\n",
      "('vol_3g_mb_8', 0.007950078086672292)\n",
      "('monthly_2g_6', 0.0)\n",
      "('monthly_2g_7', 2.1354114292545447e-07)\n",
      "('monthly_2g_8', 0.00015741388938628862)\n",
      "('sachet_2g_6', 0.00023537321669073955)\n",
      "('sachet_2g_7', 3.3996197064889185e-05)\n",
      "('sachet_2g_8', 9.518648591473749e-05)\n",
      "('monthly_3g_6', 0.00021478952826124874)\n",
      "('monthly_3g_7', 0.0006863427989566251)\n",
      "('monthly_3g_8', 1.4455525482708805e-05)\n",
      "('sachet_3g_6', 1.3208566679739893e-05)\n",
      "('sachet_3g_7', 0.00012319492708537486)\n",
      "('sachet_3g_8', 3.106337074769161e-06)\n",
      "('aug_vbc_3g', 0.002591079541901512)\n",
      "('jul_vbc_3g', 0.0010083540006189315)\n",
      "('jun_vbc_3g', 0.0001078427025850433)\n",
      "('sep_vbc_3g', 0.00013344062378474198)\n",
      "('yr_on_network', 0.00044100862925462985)\n",
      "('total_onnet_mou_6and7', 0.0024934293950259626)\n",
      "('total_offnet_mou_6and7', 0.006557597230756488)\n"
     ]
    }
   ],
   "source": [
    "# Print the name and gini importance of each feature\n",
    "\n",
    "for feature in zip(feat_labels, rfc.feature_importances_):\n",
    "    print(feature)"
   ]
  },
  {
   "attachments": {
    "image.png": {
     "image/png": "[encoded data removed]"
    }
   },
   "cell_type": "markdown",
   "metadata": {},
   "source": [
    "### Observation:\n",
    "- Looking at the above feature importance values, we can conclude that the top 15 features cumulatively account for a cumulative importance of 71%.\n",
    "- These top 15 features, in order of importance are:\n",
    "![image.png](attachment:image.png)\n"
   ]
  },
  {
   "cell_type": "markdown",
   "metadata": {},
   "source": [
    "### 5. Devise retention Strategy:"
   ]
  },
  {
   "cell_type": "code",
   "execution_count": null,
   "metadata": {},
   "outputs": [],
   "source": []
  },
  {
   "cell_type": "code",
   "execution_count": null,
   "metadata": {},
   "outputs": [],
   "source": []
  }
 ],
 "metadata": {
  "kernelspec": {
   "display_name": "Python 3",
   "language": "python",
   "name": "python3"
  },
  "language_info": {
   "codemirror_mode": {
    "name": "ipython",
    "version": 3
   },
   "file_extension": ".py",
   "mimetype": "text/x-python",
   "name": "python",
   "nbconvert_exporter": "python",
   "pygments_lexer": "ipython3",
   "version": "3.7.4"
  }
 },
 "nbformat": 4,
 "nbformat_minor": 2
}
